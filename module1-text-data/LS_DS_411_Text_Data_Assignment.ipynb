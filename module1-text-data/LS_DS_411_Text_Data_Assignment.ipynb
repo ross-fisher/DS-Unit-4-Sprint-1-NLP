{
 "cells": [
  {
   "cell_type": "markdown",
   "metadata": {},
   "source": [
    "<img align=\"left\" src=\"https://lever-client-logos.s3.amazonaws.com/864372b1-534c-480e-acd5-9711f850815c-1524247202159.png\" width=200>\n",
    "<br></br>\n",
    "<br></br>\n",
    "\n",
    "# Natural Language Processing (NLP)\n",
    "## *Data Science Unit 4 Sprint 1 Assignment 1*\n",
    "\n",
    "Your goal in assignment: find the attributes of the best & worst coffee shops in the dataset. The text is fairly raw: dates in the review, extra words in the `star_rating` column, etc. You'll probably want to clean that stuff up for a better analysis. \n",
    "\n",
    "Analyze the corpus of text using text visualizations of token frequency. Try cleaning the data as much as possible. Try the following techniques: \n",
    "- Lemmatization\n",
    "- Custom stopword removal\n",
    "\n",
    "Keep in mind the attributes of good tokens. Once you have a solid baseline, layer in the star rating in your visualization(s). Keep part in this assignment - produce a write-up of the attributes of the best and worst coffee shops. Based on your analysis, what makes the best the best and the worst the worst. Use graphs and numbesr from your analysis to support your conclusions. There should be plenty of markdown cells! :coffee:"
   ]
  },
  {
   "cell_type": "code",
   "execution_count": 2,
   "metadata": {},
   "outputs": [],
   "source": [
    "import IPython\n",
    "import re\n",
    "import spacy\n",
    "from spacy.tokenizer import Tokenizer\n",
    "#map(lambda x: , dir(IPython.display))"
   ]
  },
  {
   "cell_type": "code",
   "execution_count": 3,
   "metadata": {},
   "outputs": [
    {
     "data": {
      "image/jpeg": "[encoded data removed]",
      "text/html": [
       "\n",
       "        <iframe\n",
       "            width=\"400\"\n",
       "            height=\"300\"\n",
       "            src=\"https://www.youtube.com/embed/Jml7NVYm8cs\"\n",
       "            frameborder=\"0\"\n",
       "            allowfullscreen\n",
       "        ></iframe>\n",
       "        "
      ],
      "text/plain": [
       "<IPython.lib.display.YouTubeVideo at 0x7f149a838fd0>"
      ]
     },
     "execution_count": 3,
     "metadata": {},
     "output_type": "execute_result"
    }
   ],
   "source": [
    "from IPython.display import YouTubeVideo\n",
    "\n",
    "YouTubeVideo('Jml7NVYm8cs')"
   ]
  },
  {
   "cell_type": "code",
   "execution_count": 4,
   "metadata": {},
   "outputs": [
    {
     "data": {
      "text/plain": [
       "'/home/me/Documents/Git/ross-fisher/DS-Unit-4-Sprint-1-NLP/module1-text-data'"
      ]
     },
     "execution_count": 4,
     "metadata": {},
     "output_type": "execute_result"
    }
   ],
   "source": [
    "%pwd"
   ]
  },
  {
   "cell_type": "code",
   "execution_count": 5,
   "metadata": {},
   "outputs": [],
   "source": [
    "nlp = spacy.load('en_core_web_lg')"
   ]
  },
  {
   "cell_type": "code",
   "execution_count": 6,
   "metadata": {},
   "outputs": [],
   "source": [
    "tokenizer = Tokenizer(nlp.vocab)"
   ]
  },
  {
   "cell_type": "code",
   "execution_count": 7,
   "metadata": {},
   "outputs": [
    {
     "data": {
      "text/html": [
       "<div>\n",
       "<style scoped>\n",
       "    .dataframe tbody tr th:only-of-type {\n",
       "        vertical-align: middle;\n",
       "    }\n",
       "\n",
       "    .dataframe tbody tr th {\n",
       "        vertical-align: top;\n",
       "    }\n",
       "\n",
       "    .dataframe thead th {\n",
       "        text-align: right;\n",
       "    }\n",
       "</style>\n",
       "<table border=\"1\" class=\"dataframe\">\n",
       "  <thead>\n",
       "    <tr style=\"text-align: right;\">\n",
       "      <th></th>\n",
       "      <th>coffee_shop_name</th>\n",
       "      <th>full_review_text</th>\n",
       "      <th>star_rating</th>\n",
       "    </tr>\n",
       "  </thead>\n",
       "  <tbody>\n",
       "    <tr>\n",
       "      <th>0</th>\n",
       "      <td>The Factory - Cafe With a Soul</td>\n",
       "      <td>11/25/2016 1 check-in Love love loved the atm...</td>\n",
       "      <td>5.0 star rating</td>\n",
       "    </tr>\n",
       "    <tr>\n",
       "      <th>1</th>\n",
       "      <td>The Factory - Cafe With a Soul</td>\n",
       "      <td>12/2/2016 Listed in Date Night: Austin, Ambia...</td>\n",
       "      <td>4.0 star rating</td>\n",
       "    </tr>\n",
       "    <tr>\n",
       "      <th>2</th>\n",
       "      <td>The Factory - Cafe With a Soul</td>\n",
       "      <td>11/30/2016 1 check-in Listed in Brunch Spots ...</td>\n",
       "      <td>4.0 star rating</td>\n",
       "    </tr>\n",
       "    <tr>\n",
       "      <th>3</th>\n",
       "      <td>The Factory - Cafe With a Soul</td>\n",
       "      <td>11/25/2016 Very cool decor! Good drinks Nice ...</td>\n",
       "      <td>2.0 star rating</td>\n",
       "    </tr>\n",
       "    <tr>\n",
       "      <th>4</th>\n",
       "      <td>The Factory - Cafe With a Soul</td>\n",
       "      <td>12/3/2016 1 check-in They are located within ...</td>\n",
       "      <td>4.0 star rating</td>\n",
       "    </tr>\n",
       "  </tbody>\n",
       "</table>\n",
       "</div>"
      ],
      "text/plain": [
       "                  coffee_shop_name  \\\n",
       "0  The Factory - Cafe With a Soul    \n",
       "1  The Factory - Cafe With a Soul    \n",
       "2  The Factory - Cafe With a Soul    \n",
       "3  The Factory - Cafe With a Soul    \n",
       "4  The Factory - Cafe With a Soul    \n",
       "\n",
       "                                    full_review_text        star_rating  \n",
       "0   11/25/2016 1 check-in Love love loved the atm...   5.0 star rating   \n",
       "1   12/2/2016 Listed in Date Night: Austin, Ambia...   4.0 star rating   \n",
       "2   11/30/2016 1 check-in Listed in Brunch Spots ...   4.0 star rating   \n",
       "3   11/25/2016 Very cool decor! Good drinks Nice ...   2.0 star rating   \n",
       "4   12/3/2016 1 check-in They are located within ...   4.0 star rating   "
      ]
     },
     "execution_count": 7,
     "metadata": {},
     "output_type": "execute_result"
    }
   ],
   "source": [
    "import pandas as pd\n",
    "\n",
    "url = \"https://raw.githubusercontent.com/LambdaSchool/DS-Unit-4-Sprint-1-NLP/master/module1-text-data/data/yelp_coffeeshop_review_data.csv\"\n",
    "\n",
    "shops = pd.read_csv(url)\n",
    "shops.head()"
   ]
  },
  {
   "cell_type": "code",
   "execution_count": 8,
   "metadata": {},
   "outputs": [],
   "source": [
    "shops['star_rating'] = shops['star_rating'].str.replace('star rating', '').apply(lambda x: x.strip()).astype(float)"
   ]
  },
  {
   "cell_type": "code",
   "execution_count": 10,
   "metadata": {},
   "outputs": [
    {
     "data": {
      "text/plain": [
       "0    (11/25/2016, 1, check-in, love, love, loved, t...\n",
       "1    (12/2/2016, listed, in, date, night:, austin,,...\n",
       "2    (11/30/2016, 1, check-in, listed, in, brunch, ...\n",
       "3    (11/25/2016, very, cool, decor!, good, drinks,...\n",
       "4    (12/3/2016, 1, check-in, they, are, located, w...\n",
       "Name: full_review_tokens, dtype: object"
      ]
     },
     "execution_count": 10,
     "metadata": {},
     "output_type": "execute_result"
    }
   ],
   "source": [
    "shops['full_review_tokens'] = shops['full_review_text'].apply(lambda x: tokenizer(x.strip().lower()))\n",
    "shops['full_review_tokens'].head()"
   ]
  },
  {
   "cell_type": "code",
   "execution_count": 11,
   "metadata": {},
   "outputs": [],
   "source": [
    "shops['dates'] = shops['full_review_tokens'].apply(lambda x: x[0])\n",
    "shops['full_review_tokens'] = shops['full_review_tokens'].apply(lambda x: x[1:])"
   ]
  },
  {
   "cell_type": "code",
   "execution_count": 13,
   "metadata": {},
   "outputs": [
    {
     "data": {
      "text/html": [
       "<div>\n",
       "<style scoped>\n",
       "    .dataframe tbody tr th:only-of-type {\n",
       "        vertical-align: middle;\n",
       "    }\n",
       "\n",
       "    .dataframe tbody tr th {\n",
       "        vertical-align: top;\n",
       "    }\n",
       "\n",
       "    .dataframe thead th {\n",
       "        text-align: right;\n",
       "    }\n",
       "</style>\n",
       "<table border=\"1\" class=\"dataframe\">\n",
       "  <thead>\n",
       "    <tr style=\"text-align: right;\">\n",
       "      <th></th>\n",
       "      <th>star_rating</th>\n",
       "      <th>full_review_tokens</th>\n",
       "    </tr>\n",
       "  </thead>\n",
       "  <tbody>\n",
       "    <tr>\n",
       "      <th>0</th>\n",
       "      <td>5.0</td>\n",
       "      <td>(1, check-in, love, love, loved, the, atmosphe...</td>\n",
       "    </tr>\n",
       "    <tr>\n",
       "      <th>1</th>\n",
       "      <td>4.0</td>\n",
       "      <td>(listed, in, date, night:, austin,, ambiance, ...</td>\n",
       "    </tr>\n",
       "    <tr>\n",
       "      <th>2</th>\n",
       "      <td>4.0</td>\n",
       "      <td>(1, check-in, listed, in, brunch, spots, i, lo...</td>\n",
       "    </tr>\n",
       "    <tr>\n",
       "      <th>3</th>\n",
       "      <td>2.0</td>\n",
       "      <td>(very, cool, decor!, good, drinks, nice, seati...</td>\n",
       "    </tr>\n",
       "    <tr>\n",
       "      <th>4</th>\n",
       "      <td>4.0</td>\n",
       "      <td>(1, check-in, they, are, located, within, the,...</td>\n",
       "    </tr>\n",
       "    <tr>\n",
       "      <th>...</th>\n",
       "      <td>...</td>\n",
       "      <td>...</td>\n",
       "    </tr>\n",
       "    <tr>\n",
       "      <th>7611</th>\n",
       "      <td>4.0</td>\n",
       "      <td>(i, actually, step, into, this, restaurant, by...</td>\n",
       "    </tr>\n",
       "    <tr>\n",
       "      <th>7612</th>\n",
       "      <td>5.0</td>\n",
       "      <td>(ok,, the, steeping, room, is, awesome., how, ...</td>\n",
       "    </tr>\n",
       "    <tr>\n",
       "      <th>7613</th>\n",
       "      <td>4.0</td>\n",
       "      <td>(loved, coming, here, for, tea,, and, the, atm...</td>\n",
       "    </tr>\n",
       "    <tr>\n",
       "      <th>7614</th>\n",
       "      <td>3.0</td>\n",
       "      <td>(the, food, is, just, average., the, booths, d...</td>\n",
       "    </tr>\n",
       "    <tr>\n",
       "      <th>7615</th>\n",
       "      <td>4.0</td>\n",
       "      <td>(i, finally, stopped, in, for, lunch, with, my...</td>\n",
       "    </tr>\n",
       "  </tbody>\n",
       "</table>\n",
       "<p>7616 rows × 2 columns</p>\n",
       "</div>"
      ],
      "text/plain": [
       "      star_rating                                 full_review_tokens\n",
       "0             5.0  (1, check-in, love, love, loved, the, atmosphe...\n",
       "1             4.0  (listed, in, date, night:, austin,, ambiance, ...\n",
       "2             4.0  (1, check-in, listed, in, brunch, spots, i, lo...\n",
       "3             2.0  (very, cool, decor!, good, drinks, nice, seati...\n",
       "4             4.0  (1, check-in, they, are, located, within, the,...\n",
       "...           ...                                                ...\n",
       "7611          4.0  (i, actually, step, into, this, restaurant, by...\n",
       "7612          5.0  (ok,, the, steeping, room, is, awesome., how, ...\n",
       "7613          4.0  (loved, coming, here, for, tea,, and, the, atm...\n",
       "7614          3.0  (the, food, is, just, average., the, booths, d...\n",
       "7615          4.0  (i, finally, stopped, in, for, lunch, with, my...\n",
       "\n",
       "[7616 rows x 2 columns]"
      ]
     },
     "execution_count": 13,
     "metadata": {},
     "output_type": "execute_result"
    }
   ],
   "source": [
    "shops[['star_rating', 'full_review_tokens']]"
   ]
  },
  {
   "cell_type": "markdown",
   "metadata": {},
   "source": [
    "## How do we want to analyze these coffee shop tokens? \n",
    "\n",
    "- Overall Word / Token Count\n",
    "- View Counts by Rating \n",
    "- *Hint:* a 'bad' coffee shops has a rating betweeen 1 & 3 based on the distribution of ratings. A 'good' coffee shop is a 4 or 5. "
   ]
  },
  {
   "cell_type": "code",
   "execution_count": 14,
   "metadata": {},
   "outputs": [
    {
     "data": {
      "text/plain": [
       "<module 'mynlp' from '/home/me/Documents/Git/ross-fisher/DS-Unit-4-Sprint-1-NLP/module1-text-data/mynlp.py'>"
      ]
     },
     "execution_count": 14,
     "metadata": {},
     "output_type": "execute_result"
    }
   ],
   "source": [
    "import mynlp\n",
    "from mynlp import create_wordcount_table\n",
    "from importlib import reload \n",
    "reload(mynlp)"
   ]
  },
  {
   "cell_type": "code",
   "execution_count": 16,
   "metadata": {},
   "outputs": [],
   "source": [
    "new_column = []\n",
    "for tokens in shops['full_review_tokens']:\n",
    "    new_tokens = []\n",
    "    for token in tokens:\n",
    "        if (token.is_stop==False) & (token.is_punct==False):\n",
    "            new_tokens.append(token)\n",
    "    new_column.append(new_tokens)"
   ]
  },
  {
   "cell_type": "code",
   "execution_count": 17,
   "metadata": {},
   "outputs": [],
   "source": [
    "shops['filtered_tokens'] = new_column"
   ]
  },
  {
   "cell_type": "code",
   "execution_count": 18,
   "metadata": {},
   "outputs": [],
   "source": [
    "new_col = []\n",
    "for tokens in shops['filtered_tokens']:\n",
    "    lemma_tokens = [word.lemma_ for word in tokens]\n",
    "    new_col += [lemma_tokens]\n",
    "shops['lemma_tokens'] = new_col"
   ]
  },
  {
   "cell_type": "code",
   "execution_count": 19,
   "metadata": {},
   "outputs": [
    {
     "data": {
      "text/plain": [
       "0       [1, check-in, love, love, love, atmosphere!, c...\n",
       "1       [list, date, night:, austin,, ambiance, austin...\n",
       "2       [1, check-in, list, brunch, spot, love, eclect...\n",
       "3       [cool, decor!, good, drink, nice, seat,  , how...\n",
       "4       [1, check-in, locate, northcross, mall, shop, ...\n",
       "                              ...                        \n",
       "7611    [actually, step, restaurant, chance, favorite,...\n",
       "7612    [ok,, steep, room, awesome., great, menu, item...\n",
       "7613    [love, come, tea,, atmosphere, pretty, fresh.,...\n",
       "7614    [food, average., booth, didn't, feel, clean., ...\n",
       "7615    [finally, stop, lunch, colleague, i'm, glad, d...\n",
       "Name: lemma_tokens, Length: 7616, dtype: object"
      ]
     },
     "execution_count": 19,
     "metadata": {},
     "output_type": "execute_result"
    }
   ],
   "source": [
    "shops['lemma_tokens']"
   ]
  },
  {
   "cell_type": "code",
   "execution_count": 23,
   "metadata": {},
   "outputs": [
    {
     "data": {
      "text/plain": [
       "<matplotlib.axes._subplots.AxesSubplot at 0x7f1424eef2e8>"
      ]
     },
     "execution_count": 23,
     "metadata": {},
     "output_type": "execute_result"
    },
    {
     "data": {
      "image/png": "[encoded data removed]",
      "text/plain": [
       "<Figure size 432x288 with 1 Axes>"
      ]
     },
     "metadata": {
      "needs_background": "light"
     },
     "output_type": "display_data"
    }
   ],
   "source": [
    "import matplotlib.pyplot as plt\n",
    "shops['star_rating'].value_counts().plot(kind='bar')"
   ]
  },
  {
   "cell_type": "code",
   "execution_count": 24,
   "metadata": {},
   "outputs": [
    {
     "data": {
      "text/html": [
       "<div>\n",
       "<style scoped>\n",
       "    .dataframe tbody tr th:only-of-type {\n",
       "        vertical-align: middle;\n",
       "    }\n",
       "\n",
       "    .dataframe tbody tr th {\n",
       "        vertical-align: top;\n",
       "    }\n",
       "\n",
       "    .dataframe thead th {\n",
       "        text-align: right;\n",
       "    }\n",
       "</style>\n",
       "<table border=\"1\" class=\"dataframe\">\n",
       "  <thead>\n",
       "    <tr style=\"text-align: right;\">\n",
       "      <th></th>\n",
       "      <th>word</th>\n",
       "      <th>appears_in_count</th>\n",
       "      <th>count</th>\n",
       "      <th>rank</th>\n",
       "      <th>freq</th>\n",
       "      <th>cumfreq</th>\n",
       "      <th>appears_in_freq</th>\n",
       "    </tr>\n",
       "  </thead>\n",
       "  <tbody>\n",
       "    <tr>\n",
       "      <th>6</th>\n",
       "      <td></td>\n",
       "      <td>4343</td>\n",
       "      <td>14990</td>\n",
       "      <td>1.0</td>\n",
       "      <td>0.036868</td>\n",
       "      <td>0.036868</td>\n",
       "      <td>0.123258</td>\n",
       "    </tr>\n",
       "    <tr>\n",
       "      <th>15</th>\n",
       "      <td>coffee</td>\n",
       "      <td>4243</td>\n",
       "      <td>8203</td>\n",
       "      <td>2.0</td>\n",
       "      <td>0.020175</td>\n",
       "      <td>0.057043</td>\n",
       "      <td>0.120420</td>\n",
       "    </tr>\n",
       "    <tr>\n",
       "      <th>132</th>\n",
       "      <td>place</td>\n",
       "      <td>3257</td>\n",
       "      <td>4769</td>\n",
       "      <td>3.0</td>\n",
       "      <td>0.011729</td>\n",
       "      <td>0.068772</td>\n",
       "      <td>0.092436</td>\n",
       "    </tr>\n",
       "    <tr>\n",
       "      <th>137</th>\n",
       "      <td>great</td>\n",
       "      <td>2455</td>\n",
       "      <td>3274</td>\n",
       "      <td>4.0</td>\n",
       "      <td>0.008052</td>\n",
       "      <td>0.076825</td>\n",
       "      <td>0.069675</td>\n",
       "    </tr>\n",
       "    <tr>\n",
       "      <th>168</th>\n",
       "      <td>like</td>\n",
       "      <td>2171</td>\n",
       "      <td>3153</td>\n",
       "      <td>5.0</td>\n",
       "      <td>0.007755</td>\n",
       "      <td>0.084580</td>\n",
       "      <td>0.061615</td>\n",
       "    </tr>\n",
       "  </tbody>\n",
       "</table>\n",
       "</div>"
      ],
      "text/plain": [
       "       word  appears_in_count  count  rank      freq   cumfreq  \\\n",
       "6                        4343  14990   1.0  0.036868  0.036868   \n",
       "15   coffee              4243   8203   2.0  0.020175  0.057043   \n",
       "132   place              3257   4769   3.0  0.011729  0.068772   \n",
       "137   great              2455   3274   4.0  0.008052  0.076825   \n",
       "168    like              2171   3153   5.0  0.007755  0.084580   \n",
       "\n",
       "     appears_in_freq  \n",
       "6           0.123258  \n",
       "15          0.120420  \n",
       "132         0.092436  \n",
       "137         0.069675  \n",
       "168         0.061615  "
      ]
     },
     "execution_count": 24,
     "metadata": {},
     "output_type": "execute_result"
    }
   ],
   "source": [
    "import squarify\n",
    "wc = create_wordcount_table(shops['lemma_tokens'])\n",
    "wc.head()"
   ]
  },
  {
   "cell_type": "code",
   "execution_count": 27,
   "metadata": {},
   "outputs": [
    {
     "data": {
      "image/png": "[encoded data removed]",
      "text/plain": [
       "<Figure size 432x288 with 1 Axes>"
      ]
     },
     "metadata": {
      "needs_background": "light"
     },
     "output_type": "display_data"
    }
   ],
   "source": [
    "wc_top20 = wc[wc['rank'] <= 20.0]\n",
    "\n",
    "squarify.plot(sizes=wc_top20['freq'], label=wc_top20['word'], alpha=0.8)\n",
    "plt.show()"
   ]
  },
  {
   "cell_type": "markdown",
   "metadata": {},
   "source": [
    "## Can visualize the words with the greatest difference in counts between 'good' & 'bad'?\n",
    "\n",
    "Couple Notes: \n",
    "- Rel. freq. instead of absolute counts b/c of different numbers of reviews\n",
    "- Only look at the top 5-10 words with the greatest differences\n"
   ]
  },
  {
   "cell_type": "code",
   "execution_count": 30,
   "metadata": {},
   "outputs": [],
   "source": [
    "bad_shops = shops[shops['star_rating'] < 4]\n",
    "# medium shops excluded\n",
    "good_shops = shops[shops['star_rating'] > 4]"
   ]
  },
  {
   "cell_type": "code",
   "execution_count": 32,
   "metadata": {},
   "outputs": [],
   "source": [
    "bad_shops_wc = create_wordcount_table(bad_shops['lemma_tokens'])\n",
    "good_shops_wc = create_wordcount_table(good_shops['lemma_tokens'])"
   ]
  },
  {
   "cell_type": "code",
   "execution_count": null,
   "metadata": {},
   "outputs": [],
   "source": [
    "shops[['filtered_tokens', 'star_rating']]"
   ]
  },
  {
   "cell_type": "code",
   "execution_count": 34,
   "metadata": {},
   "outputs": [
    {
     "data": {
      "image/png": "[encoded data removed]",
      "text/plain": [
       "<Figure size 432x288 with 1 Axes>"
      ]
     },
     "metadata": {
      "needs_background": "light"
     },
     "output_type": "display_data"
    }
   ],
   "source": [
    "bad_wc_top20 = bad_shops_wc[bad_shops_wc['rank'] <= 20.0]\n",
    "\n",
    "squarify.plot(sizes=bad_wc_top20['freq'], label=bad_wc_top20['word'], alpha=0.8)\n",
    "plt.show()"
   ]
  },
  {
   "cell_type": "code",
   "execution_count": 35,
   "metadata": {},
   "outputs": [
    {
     "data": {
      "image/png": "[encoded data removed]",
      "text/plain": [
       "<Figure size 432x288 with 1 Axes>"
      ]
     },
     "metadata": {
      "needs_background": "light"
     },
     "output_type": "display_data"
    }
   ],
   "source": [
    "good_wc_top20 = good_shops_wc[good_shops_wc['rank'] <= 20.0]\n",
    "\n",
    "squarify.plot(sizes=good_wc_top20['freq'], label=good_wc_top20['word'], alpha=0.8)\n",
    "plt.show()"
   ]
  },
  {
   "cell_type": "code",
   "execution_count": 57,
   "metadata": {},
   "outputs": [],
   "source": [
    "bad_shops_wc['appears_in_freq_bad'] = bad_shops_wc['appears_in_freq']"
   ]
  },
  {
   "cell_type": "code",
   "execution_count": 58,
   "metadata": {},
   "outputs": [
    {
     "data": {
      "text/html": [
       "<div>\n",
       "<style scoped>\n",
       "    .dataframe tbody tr th:only-of-type {\n",
       "        vertical-align: middle;\n",
       "    }\n",
       "\n",
       "    .dataframe tbody tr th {\n",
       "        vertical-align: top;\n",
       "    }\n",
       "\n",
       "    .dataframe thead th {\n",
       "        text-align: right;\n",
       "    }\n",
       "</style>\n",
       "<table border=\"1\" class=\"dataframe\">\n",
       "  <thead>\n",
       "    <tr style=\"text-align: right;\">\n",
       "      <th></th>\n",
       "      <th>word</th>\n",
       "      <th>appears_in_count</th>\n",
       "      <th>count</th>\n",
       "      <th>rank</th>\n",
       "      <th>freq</th>\n",
       "      <th>cumfreq</th>\n",
       "      <th>appears_in_freq</th>\n",
       "      <th>appears_in_freq_bad</th>\n",
       "    </tr>\n",
       "  </thead>\n",
       "  <tbody>\n",
       "    <tr>\n",
       "      <th>0</th>\n",
       "      <td></td>\n",
       "      <td>1929.0</td>\n",
       "      <td>6380.0</td>\n",
       "      <td>1.0</td>\n",
       "      <td>0.035471</td>\n",
       "      <td>0.035471</td>\n",
       "      <td>0.091726</td>\n",
       "      <td>0.067470</td>\n",
       "    </tr>\n",
       "    <tr>\n",
       "      <th>1</th>\n",
       "      <td>coffee</td>\n",
       "      <td>2039.0</td>\n",
       "      <td>3936.0</td>\n",
       "      <td>2.0</td>\n",
       "      <td>0.021883</td>\n",
       "      <td>0.057354</td>\n",
       "      <td>0.096957</td>\n",
       "      <td>0.060038</td>\n",
       "    </tr>\n",
       "    <tr>\n",
       "      <th>2</th>\n",
       "      <td>place</td>\n",
       "      <td>1510.0</td>\n",
       "      <td>2147.0</td>\n",
       "      <td>3.0</td>\n",
       "      <td>0.011937</td>\n",
       "      <td>0.069291</td>\n",
       "      <td>0.071802</td>\n",
       "      <td>0.045894</td>\n",
       "    </tr>\n",
       "    <tr>\n",
       "      <th>3</th>\n",
       "      <td>great</td>\n",
       "      <td>1399.0</td>\n",
       "      <td>1878.0</td>\n",
       "      <td>4.0</td>\n",
       "      <td>0.010441</td>\n",
       "      <td>0.079732</td>\n",
       "      <td>0.066524</td>\n",
       "      <td>0.019339</td>\n",
       "    </tr>\n",
       "    <tr>\n",
       "      <th>4</th>\n",
       "      <td>it's</td>\n",
       "      <td>955.0</td>\n",
       "      <td>1428.0</td>\n",
       "      <td>5.0</td>\n",
       "      <td>0.007939</td>\n",
       "      <td>0.087671</td>\n",
       "      <td>0.045411</td>\n",
       "      <td>0.029874</td>\n",
       "    </tr>\n",
       "  </tbody>\n",
       "</table>\n",
       "</div>"
      ],
      "text/plain": [
       "     word  appears_in_count   count  rank      freq   cumfreq  \\\n",
       "0                    1929.0  6380.0   1.0  0.035471  0.035471   \n",
       "1  coffee            2039.0  3936.0   2.0  0.021883  0.057354   \n",
       "2   place            1510.0  2147.0   3.0  0.011937  0.069291   \n",
       "3   great            1399.0  1878.0   4.0  0.010441  0.079732   \n",
       "4    it's             955.0  1428.0   5.0  0.007939  0.087671   \n",
       "\n",
       "   appears_in_freq  appears_in_freq_bad  \n",
       "0         0.091726             0.067470  \n",
       "1         0.096957             0.060038  \n",
       "2         0.071802             0.045894  \n",
       "3         0.066524             0.019339  \n",
       "4         0.045411             0.029874  "
      ]
     },
     "execution_count": 58,
     "metadata": {},
     "output_type": "execute_result"
    }
   ],
   "source": [
    "comparison_wc = good_shops_wc.merge(bad_shops_wc[['word', 'appears_in_freq_bad']], on='word', how='outer')\n",
    "comparison_wc.head()"
   ]
  },
  {
   "cell_type": "code",
   "execution_count": 66,
   "metadata": {},
   "outputs": [
    {
     "data": {
      "text/plain": [
       "3       0.047185\n",
       "1       0.036919\n",
       "5       0.036066\n",
       "6       0.031049\n",
       "2       0.025908\n",
       "          ...   \n",
       "5030    0.000002\n",
       "5027    0.000002\n",
       "5887    0.000002\n",
       "6214    0.000002\n",
       "645     0.000001\n",
       "Length: 7198, dtype: float64"
      ]
     },
     "execution_count": 66,
     "metadata": {},
     "output_type": "execute_result"
    }
   ],
   "source": [
    "big_diff = (comparison_wc.appears_in_freq - comparison_wc['appears_in_freq_bad']).dropna().abs()\n",
    "my_sorted = big_diff.sort_values(ascending=False)\n",
    "my_sorted"
   ]
  },
  {
   "cell_type": "markdown",
   "metadata": {},
   "source": [
    "Makes sense great, love, etc. more common in positive reviews. \n",
    "Surprising coffee comes up less in negative reviews too. "
   ]
  },
  {
   "cell_type": "code",
   "execution_count": 68,
   "metadata": {},
   "outputs": [
    {
     "data": {
      "text/html": [
       "<div>\n",
       "<style scoped>\n",
       "    .dataframe tbody tr th:only-of-type {\n",
       "        vertical-align: middle;\n",
       "    }\n",
       "\n",
       "    .dataframe tbody tr th {\n",
       "        vertical-align: top;\n",
       "    }\n",
       "\n",
       "    .dataframe thead th {\n",
       "        text-align: right;\n",
       "    }\n",
       "</style>\n",
       "<table border=\"1\" class=\"dataframe\">\n",
       "  <thead>\n",
       "    <tr style=\"text-align: right;\">\n",
       "      <th></th>\n",
       "      <th>word</th>\n",
       "      <th>appears_in_count</th>\n",
       "      <th>count</th>\n",
       "      <th>rank</th>\n",
       "      <th>freq</th>\n",
       "      <th>cumfreq</th>\n",
       "      <th>appears_in_freq</th>\n",
       "      <th>appears_in_freq_bad</th>\n",
       "    </tr>\n",
       "  </thead>\n",
       "  <tbody>\n",
       "    <tr>\n",
       "      <th>3</th>\n",
       "      <td>great</td>\n",
       "      <td>1399.0</td>\n",
       "      <td>1878.0</td>\n",
       "      <td>4.0</td>\n",
       "      <td>0.010441</td>\n",
       "      <td>0.079732</td>\n",
       "      <td>0.066524</td>\n",
       "      <td>0.019339</td>\n",
       "    </tr>\n",
       "    <tr>\n",
       "      <th>1</th>\n",
       "      <td>coffee</td>\n",
       "      <td>2039.0</td>\n",
       "      <td>3936.0</td>\n",
       "      <td>2.0</td>\n",
       "      <td>0.021883</td>\n",
       "      <td>0.057354</td>\n",
       "      <td>0.096957</td>\n",
       "      <td>0.060038</td>\n",
       "    </tr>\n",
       "    <tr>\n",
       "      <th>5</th>\n",
       "      <td>love</td>\n",
       "      <td>1065.0</td>\n",
       "      <td>1399.0</td>\n",
       "      <td>6.0</td>\n",
       "      <td>0.007778</td>\n",
       "      <td>0.095449</td>\n",
       "      <td>0.050642</td>\n",
       "      <td>0.014576</td>\n",
       "    </tr>\n",
       "    <tr>\n",
       "      <th>6</th>\n",
       "      <td>check-in</td>\n",
       "      <td>1348.0</td>\n",
       "      <td>1353.0</td>\n",
       "      <td>7.0</td>\n",
       "      <td>0.007522</td>\n",
       "      <td>0.102972</td>\n",
       "      <td>0.064099</td>\n",
       "      <td>0.033050</td>\n",
       "    </tr>\n",
       "    <tr>\n",
       "      <th>2</th>\n",
       "      <td>place</td>\n",
       "      <td>1510.0</td>\n",
       "      <td>2147.0</td>\n",
       "      <td>3.0</td>\n",
       "      <td>0.011937</td>\n",
       "      <td>0.069291</td>\n",
       "      <td>0.071802</td>\n",
       "      <td>0.045894</td>\n",
       "    </tr>\n",
       "    <tr>\n",
       "      <th>...</th>\n",
       "      <td>...</td>\n",
       "      <td>...</td>\n",
       "      <td>...</td>\n",
       "      <td>...</td>\n",
       "      <td>...</td>\n",
       "      <td>...</td>\n",
       "      <td>...</td>\n",
       "      <td>...</td>\n",
       "    </tr>\n",
       "    <tr>\n",
       "      <th>5030</th>\n",
       "      <td>basically,</td>\n",
       "      <td>3.0</td>\n",
       "      <td>3.0</td>\n",
       "      <td>5031.0</td>\n",
       "      <td>0.000017</td>\n",
       "      <td>0.881633</td>\n",
       "      <td>0.000143</td>\n",
       "      <td>0.000144</td>\n",
       "    </tr>\n",
       "    <tr>\n",
       "      <th>5027</th>\n",
       "      <td>spaces.</td>\n",
       "      <td>3.0</td>\n",
       "      <td>3.0</td>\n",
       "      <td>5028.0</td>\n",
       "      <td>0.000017</td>\n",
       "      <td>0.881583</td>\n",
       "      <td>0.000143</td>\n",
       "      <td>0.000144</td>\n",
       "    </tr>\n",
       "    <tr>\n",
       "      <th>5887</th>\n",
       "      <td>await</td>\n",
       "      <td>3.0</td>\n",
       "      <td>3.0</td>\n",
       "      <td>5888.0</td>\n",
       "      <td>0.000017</td>\n",
       "      <td>0.895928</td>\n",
       "      <td>0.000143</td>\n",
       "      <td>0.000144</td>\n",
       "    </tr>\n",
       "    <tr>\n",
       "      <th>6214</th>\n",
       "      <td>fashion</td>\n",
       "      <td>3.0</td>\n",
       "      <td>3.0</td>\n",
       "      <td>6215.0</td>\n",
       "      <td>0.000017</td>\n",
       "      <td>0.901382</td>\n",
       "      <td>0.000143</td>\n",
       "      <td>0.000144</td>\n",
       "    </tr>\n",
       "    <tr>\n",
       "      <th>645</th>\n",
       "      <td>6</td>\n",
       "      <td>41.0</td>\n",
       "      <td>42.0</td>\n",
       "      <td>646.0</td>\n",
       "      <td>0.000234</td>\n",
       "      <td>0.616479</td>\n",
       "      <td>0.001950</td>\n",
       "      <td>0.001948</td>\n",
       "    </tr>\n",
       "  </tbody>\n",
       "</table>\n",
       "<p>7198 rows × 8 columns</p>\n",
       "</div>"
      ],
      "text/plain": [
       "            word  appears_in_count   count    rank      freq   cumfreq  \\\n",
       "3          great            1399.0  1878.0     4.0  0.010441  0.079732   \n",
       "1         coffee            2039.0  3936.0     2.0  0.021883  0.057354   \n",
       "5           love            1065.0  1399.0     6.0  0.007778  0.095449   \n",
       "6       check-in            1348.0  1353.0     7.0  0.007522  0.102972   \n",
       "2          place            1510.0  2147.0     3.0  0.011937  0.069291   \n",
       "...          ...               ...     ...     ...       ...       ...   \n",
       "5030  basically,               3.0     3.0  5031.0  0.000017  0.881633   \n",
       "5027     spaces.               3.0     3.0  5028.0  0.000017  0.881583   \n",
       "5887       await               3.0     3.0  5888.0  0.000017  0.895928   \n",
       "6214     fashion               3.0     3.0  6215.0  0.000017  0.901382   \n",
       "645            6              41.0    42.0   646.0  0.000234  0.616479   \n",
       "\n",
       "      appears_in_freq  appears_in_freq_bad  \n",
       "3            0.066524             0.019339  \n",
       "1            0.096957             0.060038  \n",
       "5            0.050642             0.014576  \n",
       "6            0.064099             0.033050  \n",
       "2            0.071802             0.045894  \n",
       "...               ...                  ...  \n",
       "5030         0.000143             0.000144  \n",
       "5027         0.000143             0.000144  \n",
       "5887         0.000143             0.000144  \n",
       "6214         0.000143             0.000144  \n",
       "645          0.001950             0.001948  \n",
       "\n",
       "[7198 rows x 8 columns]"
      ]
     },
     "execution_count": 68,
     "metadata": {},
     "output_type": "execute_result"
    }
   ],
   "source": [
    "comparison_wc.iloc[my_sorted.index]"
   ]
  },
  {
   "cell_type": "markdown",
   "metadata": {
    "colab_type": "text",
    "id": "1dCb1q8XphcP",
    "toc-hr-collapsed": true
   },
   "source": [
    "## Stretch Goals\n",
    "\n",
    "* Analyze another corpus of documents - such as Indeed.com job listings ;).\n",
    "* Play the the Spacy API to\n",
    " - Extract Named Entities\n",
    " - Extracting 'noun chunks'\n",
    " - Attempt Document Classification with just Spacy\n",
    " - *Note:* This [course](https://course.spacy.io/) will be of interesting in helping you with these stretch goals. \n",
    "* Try to build a plotly dash app with your text data \n",
    "\n"
   ]
  }
 ],
 "metadata": {
  "colab": {
   "collapsed_sections": [],
   "name": "LS_DS_421_Text_Data_Assignment.ipynb",
   "provenance": [],
   "version": "0.3.2"
  },
  "kernelspec": {
   "display_name": "Python 3",
   "language": "python",
   "name": "python3"
  },
  "language_info": {
   "codemirror_mode": {
    "name": "ipython",
    "version": 3
   },
   "file_extension": ".py",
   "mimetype": "text/x-python",
   "name": "python",
   "nbconvert_exporter": "python",
   "pygments_lexer": "ipython3",
   "version": "3.7.3"
  },
  "toc-autonumbering": false
 },
 "nbformat": 4,
 "nbformat_minor": 4
}
