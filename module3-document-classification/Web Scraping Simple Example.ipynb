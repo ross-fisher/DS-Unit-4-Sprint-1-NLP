{
 "cells": [
  {
   "cell_type": "markdown",
   "metadata": {},
   "source": [
    "# Web Scraping Simple Example "
   ]
  },
  {
   "cell_type": "code",
   "execution_count": 6,
   "metadata": {},
   "outputs": [],
   "source": [
    "import pandas as pd\n",
    "import requests as r\n",
    "from bs4 import BeautifulSoup\n",
    "\n",
    "# Whole Page -> :class \"ratings-grid-holder row-holder flex-row-holder no-line\"\n",
    "# article html tag\n",
    "tags = ['description', 'price', 'author', 'ratingValue', 'name', 'category', 'priceCurrency']\n",
    "def get_page():\n",
    "    url = \"http://whiskyadvocate.com/ratings-reviews/?search=&submit=+&brand_id=0&rating=1-100&price=0&category=0&styles_id=0&issue_id=0\"\n",
    "    return r.get(url)\n",
    "\n",
    "def get_article_info(article):\n",
    "    data = {}\n",
    "    for t in tags:\n",
    "        data[t] = article.find(itemprop=t).text\n",
    "    return data\n",
    "\n",
    "def get_articles(page):\n",
    "    # lxml\n",
    "    soup = BeautifulSoup(page.text, \"lxml\")\n",
    "    ratings = soup.find(class_=\"ratings-grid-holder\")\n",
    "    articles = ratings.find_all(\"article\")\n",
    "    articles = [get_article_info(article) for article in articles]\n",
    "    return articles\n",
    "    #soup.find_all(class_=)"
   ]
  },
  {
   "cell_type": "code",
   "execution_count": 7,
   "metadata": {},
   "outputs": [],
   "source": [
    "page = get_page()\n",
    "data = get_articles(page)"
   ]
  },
  {
   "cell_type": "code",
   "execution_count": 9,
   "metadata": {},
   "outputs": [
    {
     "data": {
      "text/plain": [
       "[{'description': \"\\nMagnificently powerful and intense. Caramels, dried peats, elegant cigar smoke, seeds scraped from vanilla beans, brand new pencils, peppercorn, coriander seeds, and star anise make for a deeply satisfying nosing experience. Silky caramels, bountiful fruits of ripe peach, stewed apple, orange pith, and pervasive smoke with elements of burnt tobacco. An abiding finish of smoke, dry spices, and banoffee pie sweetness. Close to perfection. Editor's Choice\",\n",
       "  'price': '225',\n",
       "  'author': 'Jonny McCormick',\n",
       "  'ratingValue': '97',\n",
       "  'name': 'Johnnie Walker Blue Label, 40%',\n",
       "  'category': 'Blended Scotch Whisky',\n",
       "  'priceCurrency': '$'},\n",
       " {'description': '\\nA marriage of 13 and 18 year old bourbons. A mature yet very elegant whiskey, with a silky texture and so easy to embrace with a splash of water. Balanced notes of honeyed vanilla, soft caramel, a basket of complex orchard fruit, blackberry, papaya, and a dusting of cocoa and nutmeg; smooth finish. Sophisticated, stylish, with well-defined flavors. A classic!',\n",
       "  'price': '85',\n",
       "  'author': 'John Hansell',\n",
       "  'ratingValue': '97',\n",
       "  'name': 'Four Roses Limited Edition Small Batch (2013 Release), 51.5%',\n",
       "  'category': 'Bourbon/Tennessee',\n",
       "  'priceCurrency': '$'},\n",
       " {'description': \"\\nThis bottling celebrates master distiller Parker Beam's 50 years of service by including whiskey from each of the past five decades. This is a fabulous whiskey: seamless and incredibly complex, with an impeccable marriage of youth and maturity. It’s also very even-keeled throughout -- quite different than last year’s equally impressive PHC, a 27 year old, whose personality was more like an exhilarating old wooden rollercoaster ride (and also brandished more oak).\\xa0Look for candied citrus, nectarine, blueberry, and sultana anchored by a nougat center, laced with honeyed vanilla and orange creamsicle. There’s a dusting of cocoa powder, brittle mint, and cinnamon, too. Tobacco leaves, polished leather, and teasing bourbon barrel char round out the palate, emerging more prominently towards a warming finish. A classic!\",\n",
       "  'price': '150.00',\n",
       "  'author': 'John Hansell',\n",
       "  'ratingValue': '97',\n",
       "  'name': \"Parker's Heritage Collection, 'Golden Anniversary', 50%\",\n",
       "  'category': 'Bourbon/Tennessee',\n",
       "  'priceCurrency': '$'},\n",
       " {'description': \"\\nWhat impresses me most is how this whisky evolves; it's incredibly complex. On the nose and palate, this is a thick, viscous, whisky with notes of sticky toffee, earthy oak, fig cake, roasted nuts, fallen fruit, pancake batter, black cherry, ripe peach, dark chocolate-covered espresso bean, polished leather, tobacco, a hint of wild game, and lingering, leafy damp kiln smoke. Flavors continue on the palate long after swallowing. This is what we all hope for (and dream of) in an older whisky!\",\n",
       "  'price': '4500',\n",
       "  'author': 'John Hansell',\n",
       "  'ratingValue': '97',\n",
       "  'name': 'Black Bowmore 42 year old 1964 vintage, 40.5%',\n",
       "  'category': 'Single Malt Scotch',\n",
       "  'priceCurrency': '$'},\n",
       " {'description': \"\\nThere have been some legendary Bowmores from the mid-60s and this is every bit their equal. All of them share a remarkable aroma of tropical fruit, which here moves into hallucinatory intensity: guava, mango, peach, pineapple, grapefruit. There’s a very light touch of peat smoke, more a memory of Islay than the reality. Concentrated; even at low strength the palate is silky, heady, and haunting, and lasts forever in the dry glass. A legend is born. (Eight bottles only for the U.S.) Editor's Choice.\",\n",
       "  'price': '13500',\n",
       "  'author': 'Dave Broom',\n",
       "  'ratingValue': '97',\n",
       "  'name': 'Bowmore 46 year old (distilled 1964), 42.9%',\n",
       "  'category': 'Single Malt Scotch',\n",
       "  'priceCurrency': '$'}]"
      ]
     },
     "execution_count": 9,
     "metadata": {},
     "output_type": "execute_result"
    }
   ],
   "source": [
    "data[0:5]"
   ]
  },
  {
   "cell_type": "code",
   "execution_count": 10,
   "metadata": {},
   "outputs": [],
   "source": [
    "df = pd.DataFrame.from_records(data)"
   ]
  },
  {
   "cell_type": "code",
   "execution_count": 11,
   "metadata": {},
   "outputs": [
    {
     "data": {
      "text/html": [
       "<div>\n",
       "<style scoped>\n",
       "    .dataframe tbody tr th:only-of-type {\n",
       "        vertical-align: middle;\n",
       "    }\n",
       "\n",
       "    .dataframe tbody tr th {\n",
       "        vertical-align: top;\n",
       "    }\n",
       "\n",
       "    .dataframe thead th {\n",
       "        text-align: right;\n",
       "    }\n",
       "</style>\n",
       "<table border=\"1\" class=\"dataframe\">\n",
       "  <thead>\n",
       "    <tr style=\"text-align: right;\">\n",
       "      <th></th>\n",
       "      <th>description</th>\n",
       "      <th>price</th>\n",
       "      <th>author</th>\n",
       "      <th>ratingValue</th>\n",
       "      <th>name</th>\n",
       "      <th>category</th>\n",
       "      <th>priceCurrency</th>\n",
       "    </tr>\n",
       "  </thead>\n",
       "  <tbody>\n",
       "    <tr>\n",
       "      <th>0</th>\n",
       "      <td>\\nMagnificently powerful and intense. Caramels...</td>\n",
       "      <td>225</td>\n",
       "      <td>Jonny McCormick</td>\n",
       "      <td>97</td>\n",
       "      <td>Johnnie Walker Blue Label, 40%</td>\n",
       "      <td>Blended Scotch Whisky</td>\n",
       "      <td>$</td>\n",
       "    </tr>\n",
       "    <tr>\n",
       "      <th>1</th>\n",
       "      <td>\\nA marriage of 13 and 18 year old bourbons. A...</td>\n",
       "      <td>85</td>\n",
       "      <td>John Hansell</td>\n",
       "      <td>97</td>\n",
       "      <td>Four Roses Limited Edition Small Batch (2013 R...</td>\n",
       "      <td>Bourbon/Tennessee</td>\n",
       "      <td>$</td>\n",
       "    </tr>\n",
       "    <tr>\n",
       "      <th>2</th>\n",
       "      <td>\\nThis bottling celebrates master distiller Pa...</td>\n",
       "      <td>150.00</td>\n",
       "      <td>John Hansell</td>\n",
       "      <td>97</td>\n",
       "      <td>Parker's Heritage Collection, 'Golden Annivers...</td>\n",
       "      <td>Bourbon/Tennessee</td>\n",
       "      <td>$</td>\n",
       "    </tr>\n",
       "    <tr>\n",
       "      <th>3</th>\n",
       "      <td>\\nWhat impresses me most is how this whisky ev...</td>\n",
       "      <td>4500</td>\n",
       "      <td>John Hansell</td>\n",
       "      <td>97</td>\n",
       "      <td>Black Bowmore 42 year old 1964 vintage, 40.5%</td>\n",
       "      <td>Single Malt Scotch</td>\n",
       "      <td>$</td>\n",
       "    </tr>\n",
       "    <tr>\n",
       "      <th>4</th>\n",
       "      <td>\\nThere have been some legendary Bowmores from...</td>\n",
       "      <td>13500</td>\n",
       "      <td>Dave Broom</td>\n",
       "      <td>97</td>\n",
       "      <td>Bowmore 46 year old (distilled 1964), 42.9%</td>\n",
       "      <td>Single Malt Scotch</td>\n",
       "      <td>$</td>\n",
       "    </tr>\n",
       "  </tbody>\n",
       "</table>\n",
       "</div>"
      ],
      "text/plain": [
       "                                         description   price           author  \\\n",
       "0  \\nMagnificently powerful and intense. Caramels...     225  Jonny McCormick   \n",
       "1  \\nA marriage of 13 and 18 year old bourbons. A...      85     John Hansell   \n",
       "2  \\nThis bottling celebrates master distiller Pa...  150.00     John Hansell   \n",
       "3  \\nWhat impresses me most is how this whisky ev...    4500     John Hansell   \n",
       "4  \\nThere have been some legendary Bowmores from...   13500       Dave Broom   \n",
       "\n",
       "  ratingValue                                               name  \\\n",
       "0          97                     Johnnie Walker Blue Label, 40%   \n",
       "1          97  Four Roses Limited Edition Small Batch (2013 R...   \n",
       "2          97  Parker's Heritage Collection, 'Golden Annivers...   \n",
       "3          97      Black Bowmore 42 year old 1964 vintage, 40.5%   \n",
       "4          97        Bowmore 46 year old (distilled 1964), 42.9%   \n",
       "\n",
       "                category priceCurrency  \n",
       "0  Blended Scotch Whisky             $  \n",
       "1      Bourbon/Tennessee             $  \n",
       "2      Bourbon/Tennessee             $  \n",
       "3     Single Malt Scotch             $  \n",
       "4     Single Malt Scotch             $  "
      ]
     },
     "execution_count": 11,
     "metadata": {},
     "output_type": "execute_result"
    }
   ],
   "source": [
    "df.head()"
   ]
  }
 ],
 "metadata": {
  "kernelspec": {
   "display_name": "Python 3",
   "language": "python",
   "name": "python3"
  },
  "language_info": {
   "codemirror_mode": {
    "name": "ipython",
    "version": 3
   },
   "file_extension": ".py",
   "mimetype": "text/x-python",
   "name": "python",
   "nbconvert_exporter": "python",
   "pygments_lexer": "ipython3",
   "version": "3.7.3"
  }
 },
 "nbformat": 4,
 "nbformat_minor": 4
}
