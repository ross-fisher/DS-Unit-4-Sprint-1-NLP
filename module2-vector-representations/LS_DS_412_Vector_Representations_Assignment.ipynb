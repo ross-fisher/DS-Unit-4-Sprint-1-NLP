{
 "cells": [
  {
   "cell_type": "markdown",
   "metadata": {},
   "source": [
    "<img align=\"left\" src=\"https://lever-client-logos.s3.amazonaws.com/864372b1-534c-480e-acd5-9711f850815c-1524247202159.png\" width=200>\n",
    "<br></br>\n",
    "\n",
    "# Vector Representations\n",
    "## *Data Science Unit 4 Sprint 2 Assignment 2*"
   ]
  },
  {
   "cell_type": "code",
   "execution_count": 1,
   "metadata": {
    "colab": {
     "base_uri": "https://localhost:8080/",
     "height": 159
    },
    "colab_type": "code",
    "id": "hyj-f9FDcVFp",
    "outputId": "5dd045fe-6e4c-458c-e2fc-253c3da9c805"
   },
   "outputs": [],
   "source": [
    "import re\n",
    "import string\n",
    "\n",
    "from sklearn.feature_extraction.text import CountVectorizer, TfidfVectorizer\n",
    "import matplotlib.pyplot as plt\n",
    "import pandas as pd\n",
    "import numpy as np\n",
    "import spacy"
   ]
  },
  {
   "cell_type": "code",
   "execution_count": 2,
   "metadata": {},
   "outputs": [],
   "source": [
    "nlp = spacy.load('en_core_web_lg')"
   ]
  },
  {
   "cell_type": "markdown",
   "metadata": {
    "colab_type": "text",
    "id": "M7bcmqfGXrFG"
   },
   "source": [
    "## 1) *Optional:* Scrape 100 Job Listings that contain the title \"Data Scientist\" from indeed.com\n",
    "\n",
    "At a minimum your final dataframe of job listings should contain\n",
    "- Job Title\n",
    "- Job Description\n",
    "\n",
    "If you choose to not to scrape the data, there is a CSV with outdated data in the directory. Remeber, if you scrape Indeed, you're helping yourself find a job. ;)"
   ]
  },
  {
   "cell_type": "code",
   "execution_count": 3,
   "metadata": {},
   "outputs": [],
   "source": [
    "#'https://www.indeed.com/jobs?q=Data+Science&l=Texas&start=10'\n",
    "# scrape from the second page\n",
    "import requests as r"
   ]
  },
  {
   "cell_type": "code",
   "execution_count": 4,
   "metadata": {},
   "outputs": [
    {
     "data": {
      "text/plain": [
       "['life sciences technology and services company with a configurable webbased data management platform used by leading pharmaceutical companies seeks a seasoned',\n",
       " 'develop and maintain a formal description of the data and data structures data definitions and data models perform detailed data analysis ie determine the',\n",
       " 'study and transform data science prototypes understanding of data structures data modeling and software architecture serve as a subject matter expert',\n",
       " 'the candidate is expected to build extract transform load etl services and data connectors design data models and schemas for modern data warehouse',\n",
       " 'ability to tell a story through data ensure data quality consistency and security facilitate delivery of ad hoc analysis and data requests',\n",
       " 'collaborates with data scientists developers and teams to review data methodical and meticulous interested in data mining and data cleansing',\n",
       " 'experience with common data science toolkits such as r weka numpy matlab etc depending on specific project requirements whats in for you',\n",
       " 'experience with data querying tools eg sql hive sailpoint is seeking data science interns to join our team of data scientists engineers and designers to',\n",
       " 'does understanding business problems preparing data working with large datasets developing models forecasting data mining optimization and providing',\n",
       " 'life sciences technology and services company with a configurable webbased data management platform used by leading pharmaceutical companies seeks a seasoned',\n",
       " 'work with data engineers on data quality assessment data cleansing and data analytics the data science  analytics intern will give to the development and',\n",
       " 'data science encompasses the computational and statistical skills required to use data in support of scientific enquiry and sound business decisionmaking',\n",
       " 'lennox international lii is a leading global provider of innovative climate control solutions for heating ventilation air conditioning and refrigeration',\n",
       " 'performing ad hoc data analysis to support our partner teams experience working with sports data either through independent research or a position with a',\n",
       " 'create and refine features from the underlying data implement distributed queries and build machine learning models on top of this data',\n",
       " 'the data scientist lead is an individual contributor that should be able to apply quantitative data science and analytical skills to complex problems',\n",
       " 'bachelors degree or higher in applied statistics data science computer science or equivalent relevant experience research and development of new products',\n",
       " 'seen by indeed is a free service that connects qualified jobseekers thats you with top companies hiring tech roles',\n",
       " 'at least 2 years experience in predictive modeling decision analytics data science or related work 4 years preferred',\n",
       " 'study and transform data science prototypesunderstanding of data structures data modeling and software architectureserve as a subject matter expert']"
      ]
     },
     "execution_count": 4,
     "metadata": {},
     "output_type": "execute_result"
    }
   ],
   "source": [
    "from bs4 import BeautifulSoup\n",
    "import html as html\n",
    "import requests as r\n",
    "\n",
    "def clean_string(string):\n",
    "    #string = re.sub(r'<[^>]*>', ' ', string) # remove html tags\n",
    "    string = BeautifulSoup(html.unescape(string)).text\n",
    "    string = re.sub(r\"\\s+\", \" \", string)    \n",
    "    string = re.sub(r'\\n', '', string) # remove newline characters\n",
    "    string = re.sub(r'[^a-zA-Z ^0-9]', '', string) # only alpha numeric characters\n",
    "    string = string.lower()\n",
    "    string = string.strip()\n",
    "    return string\n",
    "\n",
    "def tokenize(string):\n",
    "    doc = nlp( clean_string(string) )\n",
    "    def is_valid(token):\n",
    "        return (token.is_punct==False and\n",
    "                token.is_stop==False and token.text.strip() != '')\n",
    "    result = [token.lemma_ for token in doc if is_valid(token)]\n",
    "    return result\n",
    "\n",
    "def flatten(l):\n",
    "    return [item for sublist in l for item in sublist]\n",
    "\n",
    "def get_summaries(n=150):\n",
    "    summaries = []\n",
    "    n += 10\n",
    "    for i in range(0,n,20):\n",
    "        resp = r.get(f'https://www.indeed.com/jobs?q=Data+Science&l=Texas&start={i}')\n",
    "        soup = BeautifulSoup(resp.content, 'html.parser')\n",
    "        page_summaries = soup.findAll(\"div\", {\"class\": \"summary\"})\n",
    "        page_summaries = [clean_string(str(summary)) for summary in page_summaries]\n",
    "    \n",
    "        summaries.append(page_summaries)\n",
    "    return flatten(summaries)\n",
    "summaries = get_summaries()\n",
    "summaries[0:20]"
   ]
  },
  {
   "cell_type": "code",
   "execution_count": 5,
   "metadata": {},
   "outputs": [],
   "source": [
    "# df = pd.read_csv('data/job_listings.csv')"
   ]
  },
  {
   "cell_type": "code",
   "execution_count": 6,
   "metadata": {},
   "outputs": [],
   "source": [
    "# temp for testing\n",
    "# df = df.sample(100)"
   ]
  },
  {
   "cell_type": "code",
   "execution_count": 7,
   "metadata": {},
   "outputs": [],
   "source": [
    "df = pd.DataFrame(summaries, columns=['description'])"
   ]
  },
  {
   "cell_type": "code",
   "execution_count": 8,
   "metadata": {},
   "outputs": [
    {
     "data": {
      "text/html": [
       "<div>\n",
       "<style scoped>\n",
       "    .dataframe tbody tr th:only-of-type {\n",
       "        vertical-align: middle;\n",
       "    }\n",
       "\n",
       "    .dataframe tbody tr th {\n",
       "        vertical-align: top;\n",
       "    }\n",
       "\n",
       "    .dataframe thead th {\n",
       "        text-align: right;\n",
       "    }\n",
       "</style>\n",
       "<table border=\"1\" class=\"dataframe\">\n",
       "  <thead>\n",
       "    <tr style=\"text-align: right;\">\n",
       "      <th></th>\n",
       "      <th>description</th>\n",
       "    </tr>\n",
       "  </thead>\n",
       "  <tbody>\n",
       "    <tr>\n",
       "      <th>0</th>\n",
       "      <td>life sciences technology and services company ...</td>\n",
       "    </tr>\n",
       "    <tr>\n",
       "      <th>1</th>\n",
       "      <td>develop and maintain a formal description of t...</td>\n",
       "    </tr>\n",
       "    <tr>\n",
       "      <th>2</th>\n",
       "      <td>study and transform data science prototypes un...</td>\n",
       "    </tr>\n",
       "    <tr>\n",
       "      <th>3</th>\n",
       "      <td>the candidate is expected to build extract tra...</td>\n",
       "    </tr>\n",
       "    <tr>\n",
       "      <th>4</th>\n",
       "      <td>ability to tell a story through data ensure da...</td>\n",
       "    </tr>\n",
       "  </tbody>\n",
       "</table>\n",
       "</div>"
      ],
      "text/plain": [
       "                                         description\n",
       "0  life sciences technology and services company ...\n",
       "1  develop and maintain a formal description of t...\n",
       "2  study and transform data science prototypes un...\n",
       "3  the candidate is expected to build extract tra...\n",
       "4  ability to tell a story through data ensure da..."
      ]
     },
     "execution_count": 8,
     "metadata": {},
     "output_type": "execute_result"
    }
   ],
   "source": [
    "df.head()"
   ]
  },
  {
   "cell_type": "code",
   "execution_count": 9,
   "metadata": {},
   "outputs": [
    {
     "data": {
      "text/plain": [
       "(140, 1)"
      ]
     },
     "execution_count": 9,
     "metadata": {},
     "output_type": "execute_result"
    }
   ],
   "source": [
    "df.shape"
   ]
  },
  {
   "cell_type": "markdown",
   "metadata": {
    "colab_type": "text",
    "id": "5C4xFZNtX1m2"
   },
   "source": [
    "## 2) Use Spacy to tokenize / clean the listings "
   ]
  },
  {
   "cell_type": "code",
   "execution_count": 10,
   "metadata": {},
   "outputs": [],
   "source": [
    "df['clean_desc'] = df['description'].apply(clean_string)"
   ]
  },
  {
   "cell_type": "code",
   "execution_count": 11,
   "metadata": {},
   "outputs": [],
   "source": [
    "df['tokens'] = df['description'].apply(tokenize)"
   ]
  },
  {
   "cell_type": "code",
   "execution_count": 12,
   "metadata": {},
   "outputs": [
    {
     "data": {
      "text/plain": [
       "0    [life, sciences, technology, service, company,...\n",
       "1    [develop, maintain, formal, description, datum...\n",
       "2    [study, transform, datum, science, prototype, ...\n",
       "3    [candidate, expect, build, extract, transform,...\n",
       "4    [ability, tell, story, datum, ensure, data, qu...\n",
       "Name: tokens, dtype: object"
      ]
     },
     "execution_count": 12,
     "metadata": {},
     "output_type": "execute_result"
    }
   ],
   "source": [
    "#newline characters probably need to be taken care of\n",
    "df['tokens'].head()"
   ]
  },
  {
   "cell_type": "markdown",
   "metadata": {
    "colab_type": "text",
    "id": "-lgCZNL_YycP"
   },
   "source": [
    "## 3) Use Scikit-Learn's CountVectorizer to get word counts for each listing."
   ]
  },
  {
   "cell_type": "code",
   "execution_count": 13,
   "metadata": {
    "colab": {},
    "colab_type": "code",
    "id": "X2PZ8Pj_YxcF"
   },
   "outputs": [],
   "source": [
    "from sklearn.feature_extraction.text import CountVectorizer, TfidfVectorizer\n",
    "vect = CountVectorizer()\n",
    "def get_dtm(df, vect):\n",
    "    return vect.fit_transform(df['clean_desc'])"
   ]
  },
  {
   "cell_type": "code",
   "execution_count": 14,
   "metadata": {},
   "outputs": [
    {
     "data": {
      "text/html": [
       "<div>\n",
       "<style scoped>\n",
       "    .dataframe tbody tr th:only-of-type {\n",
       "        vertical-align: middle;\n",
       "    }\n",
       "\n",
       "    .dataframe tbody tr th {\n",
       "        vertical-align: top;\n",
       "    }\n",
       "\n",
       "    .dataframe thead th {\n",
       "        text-align: right;\n",
       "    }\n",
       "</style>\n",
       "<table border=\"1\" class=\"dataframe\">\n",
       "  <thead>\n",
       "    <tr style=\"text-align: right;\">\n",
       "      <th></th>\n",
       "      <th>10</th>\n",
       "      <th>11</th>\n",
       "      <th>35</th>\n",
       "      <th>5minute</th>\n",
       "      <th>ability</th>\n",
       "      <th>able</th>\n",
       "      <th>about</th>\n",
       "      <th>according</th>\n",
       "      <th>accuracy</th>\n",
       "      <th>across</th>\n",
       "      <th>...</th>\n",
       "      <th>workbachelors</th>\n",
       "      <th>workflow</th>\n",
       "      <th>working</th>\n",
       "      <th>workload</th>\n",
       "      <th>wrangling</th>\n",
       "      <th>write</th>\n",
       "      <th>years</th>\n",
       "      <th>you</th>\n",
       "      <th>youll</th>\n",
       "      <th>your</th>\n",
       "    </tr>\n",
       "  </thead>\n",
       "  <tbody>\n",
       "    <tr>\n",
       "      <th>0</th>\n",
       "      <td>0</td>\n",
       "      <td>0</td>\n",
       "      <td>0</td>\n",
       "      <td>0</td>\n",
       "      <td>0</td>\n",
       "      <td>0</td>\n",
       "      <td>0</td>\n",
       "      <td>0</td>\n",
       "      <td>0</td>\n",
       "      <td>0</td>\n",
       "      <td>...</td>\n",
       "      <td>0</td>\n",
       "      <td>0</td>\n",
       "      <td>0</td>\n",
       "      <td>0</td>\n",
       "      <td>0</td>\n",
       "      <td>0</td>\n",
       "      <td>0</td>\n",
       "      <td>0</td>\n",
       "      <td>0</td>\n",
       "      <td>0</td>\n",
       "    </tr>\n",
       "    <tr>\n",
       "      <th>1</th>\n",
       "      <td>0</td>\n",
       "      <td>0</td>\n",
       "      <td>0</td>\n",
       "      <td>0</td>\n",
       "      <td>0</td>\n",
       "      <td>0</td>\n",
       "      <td>0</td>\n",
       "      <td>0</td>\n",
       "      <td>0</td>\n",
       "      <td>0</td>\n",
       "      <td>...</td>\n",
       "      <td>0</td>\n",
       "      <td>0</td>\n",
       "      <td>0</td>\n",
       "      <td>0</td>\n",
       "      <td>0</td>\n",
       "      <td>0</td>\n",
       "      <td>0</td>\n",
       "      <td>0</td>\n",
       "      <td>0</td>\n",
       "      <td>0</td>\n",
       "    </tr>\n",
       "    <tr>\n",
       "      <th>2</th>\n",
       "      <td>0</td>\n",
       "      <td>0</td>\n",
       "      <td>0</td>\n",
       "      <td>0</td>\n",
       "      <td>0</td>\n",
       "      <td>0</td>\n",
       "      <td>0</td>\n",
       "      <td>0</td>\n",
       "      <td>0</td>\n",
       "      <td>0</td>\n",
       "      <td>...</td>\n",
       "      <td>0</td>\n",
       "      <td>0</td>\n",
       "      <td>0</td>\n",
       "      <td>0</td>\n",
       "      <td>0</td>\n",
       "      <td>0</td>\n",
       "      <td>0</td>\n",
       "      <td>0</td>\n",
       "      <td>0</td>\n",
       "      <td>0</td>\n",
       "    </tr>\n",
       "    <tr>\n",
       "      <th>3</th>\n",
       "      <td>0</td>\n",
       "      <td>0</td>\n",
       "      <td>0</td>\n",
       "      <td>0</td>\n",
       "      <td>0</td>\n",
       "      <td>0</td>\n",
       "      <td>0</td>\n",
       "      <td>0</td>\n",
       "      <td>0</td>\n",
       "      <td>0</td>\n",
       "      <td>...</td>\n",
       "      <td>0</td>\n",
       "      <td>0</td>\n",
       "      <td>0</td>\n",
       "      <td>0</td>\n",
       "      <td>0</td>\n",
       "      <td>0</td>\n",
       "      <td>0</td>\n",
       "      <td>0</td>\n",
       "      <td>0</td>\n",
       "      <td>0</td>\n",
       "    </tr>\n",
       "    <tr>\n",
       "      <th>4</th>\n",
       "      <td>0</td>\n",
       "      <td>0</td>\n",
       "      <td>0</td>\n",
       "      <td>0</td>\n",
       "      <td>1</td>\n",
       "      <td>0</td>\n",
       "      <td>0</td>\n",
       "      <td>0</td>\n",
       "      <td>0</td>\n",
       "      <td>0</td>\n",
       "      <td>...</td>\n",
       "      <td>0</td>\n",
       "      <td>0</td>\n",
       "      <td>0</td>\n",
       "      <td>0</td>\n",
       "      <td>0</td>\n",
       "      <td>0</td>\n",
       "      <td>0</td>\n",
       "      <td>0</td>\n",
       "      <td>0</td>\n",
       "      <td>0</td>\n",
       "    </tr>\n",
       "    <tr>\n",
       "      <th>...</th>\n",
       "      <td>...</td>\n",
       "      <td>...</td>\n",
       "      <td>...</td>\n",
       "      <td>...</td>\n",
       "      <td>...</td>\n",
       "      <td>...</td>\n",
       "      <td>...</td>\n",
       "      <td>...</td>\n",
       "      <td>...</td>\n",
       "      <td>...</td>\n",
       "      <td>...</td>\n",
       "      <td>...</td>\n",
       "      <td>...</td>\n",
       "      <td>...</td>\n",
       "      <td>...</td>\n",
       "      <td>...</td>\n",
       "      <td>...</td>\n",
       "      <td>...</td>\n",
       "      <td>...</td>\n",
       "      <td>...</td>\n",
       "      <td>...</td>\n",
       "    </tr>\n",
       "    <tr>\n",
       "      <th>135</th>\n",
       "      <td>0</td>\n",
       "      <td>1</td>\n",
       "      <td>0</td>\n",
       "      <td>1</td>\n",
       "      <td>0</td>\n",
       "      <td>0</td>\n",
       "      <td>0</td>\n",
       "      <td>0</td>\n",
       "      <td>0</td>\n",
       "      <td>0</td>\n",
       "      <td>...</td>\n",
       "      <td>0</td>\n",
       "      <td>0</td>\n",
       "      <td>0</td>\n",
       "      <td>0</td>\n",
       "      <td>0</td>\n",
       "      <td>0</td>\n",
       "      <td>0</td>\n",
       "      <td>0</td>\n",
       "      <td>0</td>\n",
       "      <td>0</td>\n",
       "    </tr>\n",
       "    <tr>\n",
       "      <th>136</th>\n",
       "      <td>0</td>\n",
       "      <td>0</td>\n",
       "      <td>0</td>\n",
       "      <td>0</td>\n",
       "      <td>0</td>\n",
       "      <td>0</td>\n",
       "      <td>0</td>\n",
       "      <td>0</td>\n",
       "      <td>0</td>\n",
       "      <td>0</td>\n",
       "      <td>...</td>\n",
       "      <td>0</td>\n",
       "      <td>0</td>\n",
       "      <td>0</td>\n",
       "      <td>0</td>\n",
       "      <td>0</td>\n",
       "      <td>0</td>\n",
       "      <td>0</td>\n",
       "      <td>0</td>\n",
       "      <td>0</td>\n",
       "      <td>0</td>\n",
       "    </tr>\n",
       "    <tr>\n",
       "      <th>137</th>\n",
       "      <td>0</td>\n",
       "      <td>0</td>\n",
       "      <td>0</td>\n",
       "      <td>0</td>\n",
       "      <td>0</td>\n",
       "      <td>0</td>\n",
       "      <td>0</td>\n",
       "      <td>0</td>\n",
       "      <td>0</td>\n",
       "      <td>0</td>\n",
       "      <td>...</td>\n",
       "      <td>0</td>\n",
       "      <td>0</td>\n",
       "      <td>0</td>\n",
       "      <td>0</td>\n",
       "      <td>0</td>\n",
       "      <td>0</td>\n",
       "      <td>0</td>\n",
       "      <td>0</td>\n",
       "      <td>0</td>\n",
       "      <td>0</td>\n",
       "    </tr>\n",
       "    <tr>\n",
       "      <th>138</th>\n",
       "      <td>0</td>\n",
       "      <td>0</td>\n",
       "      <td>0</td>\n",
       "      <td>0</td>\n",
       "      <td>0</td>\n",
       "      <td>0</td>\n",
       "      <td>0</td>\n",
       "      <td>0</td>\n",
       "      <td>0</td>\n",
       "      <td>0</td>\n",
       "      <td>...</td>\n",
       "      <td>1</td>\n",
       "      <td>0</td>\n",
       "      <td>0</td>\n",
       "      <td>0</td>\n",
       "      <td>0</td>\n",
       "      <td>0</td>\n",
       "      <td>1</td>\n",
       "      <td>0</td>\n",
       "      <td>0</td>\n",
       "      <td>0</td>\n",
       "    </tr>\n",
       "    <tr>\n",
       "      <th>139</th>\n",
       "      <td>0</td>\n",
       "      <td>0</td>\n",
       "      <td>0</td>\n",
       "      <td>0</td>\n",
       "      <td>0</td>\n",
       "      <td>0</td>\n",
       "      <td>0</td>\n",
       "      <td>0</td>\n",
       "      <td>0</td>\n",
       "      <td>0</td>\n",
       "      <td>...</td>\n",
       "      <td>0</td>\n",
       "      <td>0</td>\n",
       "      <td>0</td>\n",
       "      <td>0</td>\n",
       "      <td>0</td>\n",
       "      <td>0</td>\n",
       "      <td>0</td>\n",
       "      <td>0</td>\n",
       "      <td>0</td>\n",
       "      <td>0</td>\n",
       "    </tr>\n",
       "  </tbody>\n",
       "</table>\n",
       "<p>140 rows × 699 columns</p>\n",
       "</div>"
      ],
      "text/plain": [
       "     10  11  35  5minute  ability  able  about  according  accuracy  across  \\\n",
       "0     0   0   0        0        0     0      0          0         0       0   \n",
       "1     0   0   0        0        0     0      0          0         0       0   \n",
       "2     0   0   0        0        0     0      0          0         0       0   \n",
       "3     0   0   0        0        0     0      0          0         0       0   \n",
       "4     0   0   0        0        1     0      0          0         0       0   \n",
       "..   ..  ..  ..      ...      ...   ...    ...        ...       ...     ...   \n",
       "135   0   1   0        1        0     0      0          0         0       0   \n",
       "136   0   0   0        0        0     0      0          0         0       0   \n",
       "137   0   0   0        0        0     0      0          0         0       0   \n",
       "138   0   0   0        0        0     0      0          0         0       0   \n",
       "139   0   0   0        0        0     0      0          0         0       0   \n",
       "\n",
       "     ...  workbachelors  workflow  working  workload  wrangling  write  years  \\\n",
       "0    ...              0         0        0         0          0      0      0   \n",
       "1    ...              0         0        0         0          0      0      0   \n",
       "2    ...              0         0        0         0          0      0      0   \n",
       "3    ...              0         0        0         0          0      0      0   \n",
       "4    ...              0         0        0         0          0      0      0   \n",
       "..   ...            ...       ...      ...       ...        ...    ...    ...   \n",
       "135  ...              0         0        0         0          0      0      0   \n",
       "136  ...              0         0        0         0          0      0      0   \n",
       "137  ...              0         0        0         0          0      0      0   \n",
       "138  ...              1         0        0         0          0      0      1   \n",
       "139  ...              0         0        0         0          0      0      0   \n",
       "\n",
       "     you  youll  your  \n",
       "0      0      0     0  \n",
       "1      0      0     0  \n",
       "2      0      0     0  \n",
       "3      0      0     0  \n",
       "4      0      0     0  \n",
       "..   ...    ...   ...  \n",
       "135    0      0     0  \n",
       "136    0      0     0  \n",
       "137    0      0     0  \n",
       "138    0      0     0  \n",
       "139    0      0     0  \n",
       "\n",
       "[140 rows x 699 columns]"
      ]
     },
     "execution_count": 14,
     "metadata": {},
     "output_type": "execute_result"
    }
   ],
   "source": [
    "dtm = get_dtm(df, vect)\n",
    "pd.DataFrame(dtm.todense(), columns=vect.get_feature_names())"
   ]
  },
  {
   "cell_type": "markdown",
   "metadata": {
    "colab_type": "text",
    "id": "Zo1iH_UeY7_n"
   },
   "source": [
    "## 4) Visualize the most common word counts"
   ]
  },
  {
   "cell_type": "code",
   "execution_count": 15,
   "metadata": {
    "colab": {},
    "colab_type": "code",
    "id": "M5LB00uyZKV5"
   },
   "outputs": [
    {
     "data": {
      "text/html": [
       "<div>\n",
       "<style scoped>\n",
       "    .dataframe tbody tr th:only-of-type {\n",
       "        vertical-align: middle;\n",
       "    }\n",
       "\n",
       "    .dataframe tbody tr th {\n",
       "        vertical-align: top;\n",
       "    }\n",
       "\n",
       "    .dataframe thead th {\n",
       "        text-align: right;\n",
       "    }\n",
       "</style>\n",
       "<table border=\"1\" class=\"dataframe\">\n",
       "  <thead>\n",
       "    <tr style=\"text-align: right;\">\n",
       "      <th></th>\n",
       "      <th>word</th>\n",
       "      <th>appears_in_count</th>\n",
       "      <th>count</th>\n",
       "      <th>rank</th>\n",
       "      <th>freq</th>\n",
       "      <th>cumfreq</th>\n",
       "      <th>appears_in_freq</th>\n",
       "    </tr>\n",
       "  </thead>\n",
       "  <tbody>\n",
       "    <tr>\n",
       "      <th>2</th>\n",
       "      <td>datum</td>\n",
       "      <td>98</td>\n",
       "      <td>197</td>\n",
       "      <td>1.0</td>\n",
       "      <td>0.095910</td>\n",
       "      <td>0.095910</td>\n",
       "      <td>0.169844</td>\n",
       "    </tr>\n",
       "    <tr>\n",
       "      <th>56</th>\n",
       "      <td>data</td>\n",
       "      <td>61</td>\n",
       "      <td>77</td>\n",
       "      <td>2.0</td>\n",
       "      <td>0.037488</td>\n",
       "      <td>0.133398</td>\n",
       "      <td>0.105719</td>\n",
       "    </tr>\n",
       "    <tr>\n",
       "      <th>37</th>\n",
       "      <td>science</td>\n",
       "      <td>53</td>\n",
       "      <td>68</td>\n",
       "      <td>3.0</td>\n",
       "      <td>0.033106</td>\n",
       "      <td>0.166504</td>\n",
       "      <td>0.091854</td>\n",
       "    </tr>\n",
       "    <tr>\n",
       "      <th>84</th>\n",
       "      <td>experience</td>\n",
       "      <td>36</td>\n",
       "      <td>38</td>\n",
       "      <td>4.0</td>\n",
       "      <td>0.018500</td>\n",
       "      <td>0.185005</td>\n",
       "      <td>0.062392</td>\n",
       "    </tr>\n",
       "    <tr>\n",
       "      <th>4</th>\n",
       "      <td>company</td>\n",
       "      <td>21</td>\n",
       "      <td>29</td>\n",
       "      <td>5.0</td>\n",
       "      <td>0.014119</td>\n",
       "      <td>0.199124</td>\n",
       "      <td>0.036395</td>\n",
       "    </tr>\n",
       "    <tr>\n",
       "      <th>...</th>\n",
       "      <td>...</td>\n",
       "      <td>...</td>\n",
       "      <td>...</td>\n",
       "      <td>...</td>\n",
       "      <td>...</td>\n",
       "      <td>...</td>\n",
       "      <td>...</td>\n",
       "    </tr>\n",
       "    <tr>\n",
       "      <th>568</th>\n",
       "      <td>mldl</td>\n",
       "      <td>1</td>\n",
       "      <td>1</td>\n",
       "      <td>573.0</td>\n",
       "      <td>0.000487</td>\n",
       "      <td>0.998053</td>\n",
       "      <td>0.001733</td>\n",
       "    </tr>\n",
       "    <tr>\n",
       "      <th>569</th>\n",
       "      <td>modelling</td>\n",
       "      <td>1</td>\n",
       "      <td>1</td>\n",
       "      <td>574.0</td>\n",
       "      <td>0.000487</td>\n",
       "      <td>0.998539</td>\n",
       "      <td>0.001733</td>\n",
       "    </tr>\n",
       "    <tr>\n",
       "      <th>567</th>\n",
       "      <td>experiencesome</td>\n",
       "      <td>1</td>\n",
       "      <td>1</td>\n",
       "      <td>575.0</td>\n",
       "      <td>0.000487</td>\n",
       "      <td>0.999026</td>\n",
       "      <td>0.001733</td>\n",
       "    </tr>\n",
       "    <tr>\n",
       "      <th>570</th>\n",
       "      <td>summary</td>\n",
       "      <td>1</td>\n",
       "      <td>1</td>\n",
       "      <td>576.0</td>\n",
       "      <td>0.000487</td>\n",
       "      <td>0.999513</td>\n",
       "      <td>0.001733</td>\n",
       "    </tr>\n",
       "    <tr>\n",
       "      <th>571</th>\n",
       "      <td>department</td>\n",
       "      <td>1</td>\n",
       "      <td>1</td>\n",
       "      <td>577.0</td>\n",
       "      <td>0.000487</td>\n",
       "      <td>1.000000</td>\n",
       "      <td>0.001733</td>\n",
       "    </tr>\n",
       "  </tbody>\n",
       "</table>\n",
       "<p>577 rows × 7 columns</p>\n",
       "</div>"
      ],
      "text/plain": [
       "               word  appears_in_count  count   rank      freq   cumfreq  \\\n",
       "2             datum                98    197    1.0  0.095910  0.095910   \n",
       "56             data                61     77    2.0  0.037488  0.133398   \n",
       "37          science                53     68    3.0  0.033106  0.166504   \n",
       "84       experience                36     38    4.0  0.018500  0.185005   \n",
       "4           company                21     29    5.0  0.014119  0.199124   \n",
       "..              ...               ...    ...    ...       ...       ...   \n",
       "568            mldl                 1      1  573.0  0.000487  0.998053   \n",
       "569       modelling                 1      1  574.0  0.000487  0.998539   \n",
       "567  experiencesome                 1      1  575.0  0.000487  0.999026   \n",
       "570         summary                 1      1  576.0  0.000487  0.999513   \n",
       "571      department                 1      1  577.0  0.000487  1.000000   \n",
       "\n",
       "     appears_in_freq  \n",
       "2           0.169844  \n",
       "56          0.105719  \n",
       "37          0.091854  \n",
       "84          0.062392  \n",
       "4           0.036395  \n",
       "..               ...  \n",
       "568         0.001733  \n",
       "569         0.001733  \n",
       "567         0.001733  \n",
       "570         0.001733  \n",
       "571         0.001733  \n",
       "\n",
       "[577 rows x 7 columns]"
      ]
     },
     "execution_count": 15,
     "metadata": {},
     "output_type": "execute_result"
    }
   ],
   "source": [
    "from mynlp import create_wordcount_table\n",
    "wc = create_wordcount_table(df['tokens'])\n",
    "wc"
   ]
  },
  {
   "cell_type": "code",
   "execution_count": 16,
   "metadata": {},
   "outputs": [
    {
     "data": {
      "image/png": "[encoded data removed]",
      "text/plain": [
       "<Figure size 432x288 with 1 Axes>"
      ]
     },
     "metadata": {
      "needs_background": "light"
     },
     "output_type": "display_data"
    }
   ],
   "source": [
    "import squarify\n",
    "top_20 = wc[wc['rank'] <= 20]\n",
    "squarify.plot(sizes=top_20['freq'], label=top_20['word'], alpha=0.8)\n",
    "plt.show()"
   ]
  },
  {
   "cell_type": "markdown",
   "metadata": {
    "colab_type": "text",
    "id": "bwFsTqrVZMYi"
   },
   "source": [
    "## 5) Use Scikit-Learn's tfidfVectorizer to get a TF-IDF feature matrix"
   ]
  },
  {
   "cell_type": "markdown",
   "metadata": {},
   "source": [
    "### From wikipedia\n",
    "In the fields of computational linguistics and probability, an n-gram is a contiguous sequence of n items from a given sample of text or speech. The items can be phonemes, syllables, letters, words or base pairs according to the application. The n-grams typically are collected from a text or speech corpus. When the items are words, n-grams may also be called shingles[clarification needed].[1]"
   ]
  },
  {
   "cell_type": "code",
   "execution_count": 17,
   "metadata": {
    "colab": {},
    "colab_type": "code",
    "id": "-gx2gZCbl5Np"
   },
   "outputs": [],
   "source": [
    "from sklearn.feature_extraction.text import TfidfVectorizer\n",
    "# tfidf\n",
    "# \n",
    "tfidf = TfidfVectorizer(tokenizer=tokenize, min_df=0.025, max_df=.98, ngram_range=(1,2), stop_words='english')\n",
    "vect = tfidf.fit(df['description'])\n",
    "dtm = vect.transform(df['description'])\n",
    "\n",
    "dtm = pd.DataFrame(dtm.todense(), columns=tfidf.get_feature_names())"
   ]
  },
  {
   "cell_type": "code",
   "execution_count": 18,
   "metadata": {},
   "outputs": [
    {
     "data": {
      "text/html": [
       "<div>\n",
       "<style scoped>\n",
       "    .dataframe tbody tr th:only-of-type {\n",
       "        vertical-align: middle;\n",
       "    }\n",
       "\n",
       "    .dataframe tbody tr th {\n",
       "        vertical-align: top;\n",
       "    }\n",
       "\n",
       "    .dataframe thead th {\n",
       "        text-align: right;\n",
       "    }\n",
       "</style>\n",
       "<table border=\"1\" class=\"dataframe\">\n",
       "  <thead>\n",
       "    <tr style=\"text-align: right;\">\n",
       "      <th></th>\n",
       "      <th>2</th>\n",
       "      <th>2 year</th>\n",
       "      <th>ability</th>\n",
       "      <th>ability tell</th>\n",
       "      <th>accord</th>\n",
       "      <th>ad</th>\n",
       "      <th>ad hoc</th>\n",
       "      <th>ai</th>\n",
       "      <th>analysis</th>\n",
       "      <th>analysis datum</th>\n",
       "      <th>...</th>\n",
       "      <th>visualization</th>\n",
       "      <th>warehouse</th>\n",
       "      <th>webbased</th>\n",
       "      <th>webbased datum</th>\n",
       "      <th>work</th>\n",
       "      <th>work experience</th>\n",
       "      <th>workbachelor</th>\n",
       "      <th>workbachelor degree</th>\n",
       "      <th>year</th>\n",
       "      <th>year experience</th>\n",
       "    </tr>\n",
       "  </thead>\n",
       "  <tbody>\n",
       "    <tr>\n",
       "      <th>0</th>\n",
       "      <td>0.0</td>\n",
       "      <td>0.0</td>\n",
       "      <td>0.000000</td>\n",
       "      <td>0.000000</td>\n",
       "      <td>0.0</td>\n",
       "      <td>0.000000</td>\n",
       "      <td>0.000000</td>\n",
       "      <td>0.0</td>\n",
       "      <td>0.000000</td>\n",
       "      <td>0.000000</td>\n",
       "      <td>...</td>\n",
       "      <td>0.0</td>\n",
       "      <td>0.000000</td>\n",
       "      <td>0.192894</td>\n",
       "      <td>0.192894</td>\n",
       "      <td>0.0</td>\n",
       "      <td>0.0</td>\n",
       "      <td>0.0</td>\n",
       "      <td>0.0</td>\n",
       "      <td>0.0</td>\n",
       "      <td>0.0</td>\n",
       "    </tr>\n",
       "    <tr>\n",
       "      <th>1</th>\n",
       "      <td>0.0</td>\n",
       "      <td>0.0</td>\n",
       "      <td>0.000000</td>\n",
       "      <td>0.000000</td>\n",
       "      <td>0.0</td>\n",
       "      <td>0.000000</td>\n",
       "      <td>0.000000</td>\n",
       "      <td>0.0</td>\n",
       "      <td>0.149701</td>\n",
       "      <td>0.000000</td>\n",
       "      <td>...</td>\n",
       "      <td>0.0</td>\n",
       "      <td>0.000000</td>\n",
       "      <td>0.000000</td>\n",
       "      <td>0.000000</td>\n",
       "      <td>0.0</td>\n",
       "      <td>0.0</td>\n",
       "      <td>0.0</td>\n",
       "      <td>0.0</td>\n",
       "      <td>0.0</td>\n",
       "      <td>0.0</td>\n",
       "    </tr>\n",
       "    <tr>\n",
       "      <th>2</th>\n",
       "      <td>0.0</td>\n",
       "      <td>0.0</td>\n",
       "      <td>0.000000</td>\n",
       "      <td>0.000000</td>\n",
       "      <td>0.0</td>\n",
       "      <td>0.000000</td>\n",
       "      <td>0.000000</td>\n",
       "      <td>0.0</td>\n",
       "      <td>0.000000</td>\n",
       "      <td>0.000000</td>\n",
       "      <td>...</td>\n",
       "      <td>0.0</td>\n",
       "      <td>0.000000</td>\n",
       "      <td>0.000000</td>\n",
       "      <td>0.000000</td>\n",
       "      <td>0.0</td>\n",
       "      <td>0.0</td>\n",
       "      <td>0.0</td>\n",
       "      <td>0.0</td>\n",
       "      <td>0.0</td>\n",
       "      <td>0.0</td>\n",
       "    </tr>\n",
       "    <tr>\n",
       "      <th>3</th>\n",
       "      <td>0.0</td>\n",
       "      <td>0.0</td>\n",
       "      <td>0.000000</td>\n",
       "      <td>0.000000</td>\n",
       "      <td>0.0</td>\n",
       "      <td>0.000000</td>\n",
       "      <td>0.000000</td>\n",
       "      <td>0.0</td>\n",
       "      <td>0.000000</td>\n",
       "      <td>0.000000</td>\n",
       "      <td>...</td>\n",
       "      <td>0.0</td>\n",
       "      <td>0.382298</td>\n",
       "      <td>0.000000</td>\n",
       "      <td>0.000000</td>\n",
       "      <td>0.0</td>\n",
       "      <td>0.0</td>\n",
       "      <td>0.0</td>\n",
       "      <td>0.0</td>\n",
       "      <td>0.0</td>\n",
       "      <td>0.0</td>\n",
       "    </tr>\n",
       "    <tr>\n",
       "      <th>4</th>\n",
       "      <td>0.0</td>\n",
       "      <td>0.0</td>\n",
       "      <td>0.194485</td>\n",
       "      <td>0.201197</td>\n",
       "      <td>0.0</td>\n",
       "      <td>0.208945</td>\n",
       "      <td>0.208945</td>\n",
       "      <td>0.0</td>\n",
       "      <td>0.151007</td>\n",
       "      <td>0.218109</td>\n",
       "      <td>...</td>\n",
       "      <td>0.0</td>\n",
       "      <td>0.000000</td>\n",
       "      <td>0.000000</td>\n",
       "      <td>0.000000</td>\n",
       "      <td>0.0</td>\n",
       "      <td>0.0</td>\n",
       "      <td>0.0</td>\n",
       "      <td>0.0</td>\n",
       "      <td>0.0</td>\n",
       "      <td>0.0</td>\n",
       "    </tr>\n",
       "  </tbody>\n",
       "</table>\n",
       "<p>5 rows × 217 columns</p>\n",
       "</div>"
      ],
      "text/plain": [
       "     2  2 year   ability  ability tell  accord        ad    ad hoc   ai  \\\n",
       "0  0.0     0.0  0.000000      0.000000     0.0  0.000000  0.000000  0.0   \n",
       "1  0.0     0.0  0.000000      0.000000     0.0  0.000000  0.000000  0.0   \n",
       "2  0.0     0.0  0.000000      0.000000     0.0  0.000000  0.000000  0.0   \n",
       "3  0.0     0.0  0.000000      0.000000     0.0  0.000000  0.000000  0.0   \n",
       "4  0.0     0.0  0.194485      0.201197     0.0  0.208945  0.208945  0.0   \n",
       "\n",
       "   analysis  analysis datum  ...  visualization  warehouse  webbased  \\\n",
       "0  0.000000        0.000000  ...            0.0   0.000000  0.192894   \n",
       "1  0.149701        0.000000  ...            0.0   0.000000  0.000000   \n",
       "2  0.000000        0.000000  ...            0.0   0.000000  0.000000   \n",
       "3  0.000000        0.000000  ...            0.0   0.382298  0.000000   \n",
       "4  0.151007        0.218109  ...            0.0   0.000000  0.000000   \n",
       "\n",
       "   webbased datum  work  work experience  workbachelor  workbachelor degree  \\\n",
       "0        0.192894   0.0              0.0           0.0                  0.0   \n",
       "1        0.000000   0.0              0.0           0.0                  0.0   \n",
       "2        0.000000   0.0              0.0           0.0                  0.0   \n",
       "3        0.000000   0.0              0.0           0.0                  0.0   \n",
       "4        0.000000   0.0              0.0           0.0                  0.0   \n",
       "\n",
       "   year  year experience  \n",
       "0   0.0              0.0  \n",
       "1   0.0              0.0  \n",
       "2   0.0              0.0  \n",
       "3   0.0              0.0  \n",
       "4   0.0              0.0  \n",
       "\n",
       "[5 rows x 217 columns]"
      ]
     },
     "execution_count": 18,
     "metadata": {},
     "output_type": "execute_result"
    }
   ],
   "source": [
    "dtm.head()"
   ]
  },
  {
   "cell_type": "markdown",
   "metadata": {},
   "source": [
    "## 6) Create a NearestNeighbor Model. Write the description of your ideal datascience job and query your job listings. "
   ]
  },
  {
   "cell_type": "markdown",
   "metadata": {},
   "source": [
    "### Cosine Similarity\n",
    "'Brute Force' method but works well"
   ]
  },
  {
   "cell_type": "code",
   "execution_count": 19,
   "metadata": {},
   "outputs": [],
   "source": [
    "from sklearn.metrics.pairwise import cosine_similarity\n",
    "dist_matrix = cosine_similarity(dtm)\n",
    "dist_df = pd.DataFrame(dist_matrix)"
   ]
  },
  {
   "cell_type": "code",
   "execution_count": 20,
   "metadata": {
    "collapsed": false,
    "inputHidden": false,
    "jupyter": {
     "outputs_hidden": false
    },
    "outputHidden": false
   },
   "outputs": [
    {
     "data": {
      "text/plain": [
       "15     1.000000\n",
       "111    0.422250\n",
       "47     0.390344\n",
       "132    0.378874\n",
       "126    0.372960\n",
       "124    0.323490\n",
       "64     0.312568\n",
       "80     0.310713\n",
       "11     0.301753\n",
       "45     0.299286\n",
       "Name: 15, dtype: float64"
      ]
     },
     "execution_count": 20,
     "metadata": {},
     "output_type": "execute_result"
    }
   ],
   "source": [
    "# \n",
    "dist_df[15].sort_values(ascending=False)[:10]"
   ]
  },
  {
   "cell_type": "code",
   "execution_count": 21,
   "metadata": {},
   "outputs": [
    {
     "data": {
      "text/plain": [
       "'the data scientist lead is an individual contributor that should be able to apply quantitative data science and analytical skills to complex problems'"
      ]
     },
     "execution_count": 21,
     "metadata": {},
     "output_type": "execute_result"
    }
   ],
   "source": [
    "clean_string(df.description[15])"
   ]
  },
  {
   "cell_type": "code",
   "execution_count": 22,
   "metadata": {},
   "outputs": [
    {
     "data": {
      "text/plain": [
       "'strong communication and data presentation skillsphd degree in computer science engineering or related technicalscientific field'"
      ]
     },
     "execution_count": 22,
     "metadata": {},
     "output_type": "execute_result"
    }
   ],
   "source": [
    "clean_string(df.description[28])"
   ]
  },
  {
   "cell_type": "markdown",
   "metadata": {},
   "source": [
    "## Nearest Neighbor"
   ]
  },
  {
   "cell_type": "code",
   "execution_count": 23,
   "metadata": {},
   "outputs": [
    {
     "data": {
      "text/html": [
       "<div>\n",
       "<style scoped>\n",
       "    .dataframe tbody tr th:only-of-type {\n",
       "        vertical-align: middle;\n",
       "    }\n",
       "\n",
       "    .dataframe tbody tr th {\n",
       "        vertical-align: top;\n",
       "    }\n",
       "\n",
       "    .dataframe thead th {\n",
       "        text-align: right;\n",
       "    }\n",
       "</style>\n",
       "<table border=\"1\" class=\"dataframe\">\n",
       "  <thead>\n",
       "    <tr style=\"text-align: right;\">\n",
       "      <th></th>\n",
       "      <th>2</th>\n",
       "      <th>2 year</th>\n",
       "      <th>ability</th>\n",
       "      <th>ability tell</th>\n",
       "      <th>accord</th>\n",
       "      <th>ad</th>\n",
       "      <th>ad hoc</th>\n",
       "      <th>ai</th>\n",
       "      <th>analysis</th>\n",
       "      <th>analysis datum</th>\n",
       "      <th>...</th>\n",
       "      <th>visualization</th>\n",
       "      <th>warehouse</th>\n",
       "      <th>webbased</th>\n",
       "      <th>webbased datum</th>\n",
       "      <th>work</th>\n",
       "      <th>work experience</th>\n",
       "      <th>workbachelor</th>\n",
       "      <th>workbachelor degree</th>\n",
       "      <th>year</th>\n",
       "      <th>year experience</th>\n",
       "    </tr>\n",
       "  </thead>\n",
       "  <tbody>\n",
       "    <tr>\n",
       "      <th>0</th>\n",
       "      <td>0.0</td>\n",
       "      <td>0.0</td>\n",
       "      <td>0.000000</td>\n",
       "      <td>0.000000</td>\n",
       "      <td>0.0</td>\n",
       "      <td>0.000000</td>\n",
       "      <td>0.000000</td>\n",
       "      <td>0.0</td>\n",
       "      <td>0.000000</td>\n",
       "      <td>0.000000</td>\n",
       "      <td>...</td>\n",
       "      <td>0.0</td>\n",
       "      <td>0.000000</td>\n",
       "      <td>0.192894</td>\n",
       "      <td>0.192894</td>\n",
       "      <td>0.0</td>\n",
       "      <td>0.0</td>\n",
       "      <td>0.0</td>\n",
       "      <td>0.0</td>\n",
       "      <td>0.0</td>\n",
       "      <td>0.0</td>\n",
       "    </tr>\n",
       "    <tr>\n",
       "      <th>1</th>\n",
       "      <td>0.0</td>\n",
       "      <td>0.0</td>\n",
       "      <td>0.000000</td>\n",
       "      <td>0.000000</td>\n",
       "      <td>0.0</td>\n",
       "      <td>0.000000</td>\n",
       "      <td>0.000000</td>\n",
       "      <td>0.0</td>\n",
       "      <td>0.149701</td>\n",
       "      <td>0.000000</td>\n",
       "      <td>...</td>\n",
       "      <td>0.0</td>\n",
       "      <td>0.000000</td>\n",
       "      <td>0.000000</td>\n",
       "      <td>0.000000</td>\n",
       "      <td>0.0</td>\n",
       "      <td>0.0</td>\n",
       "      <td>0.0</td>\n",
       "      <td>0.0</td>\n",
       "      <td>0.0</td>\n",
       "      <td>0.0</td>\n",
       "    </tr>\n",
       "    <tr>\n",
       "      <th>2</th>\n",
       "      <td>0.0</td>\n",
       "      <td>0.0</td>\n",
       "      <td>0.000000</td>\n",
       "      <td>0.000000</td>\n",
       "      <td>0.0</td>\n",
       "      <td>0.000000</td>\n",
       "      <td>0.000000</td>\n",
       "      <td>0.0</td>\n",
       "      <td>0.000000</td>\n",
       "      <td>0.000000</td>\n",
       "      <td>...</td>\n",
       "      <td>0.0</td>\n",
       "      <td>0.000000</td>\n",
       "      <td>0.000000</td>\n",
       "      <td>0.000000</td>\n",
       "      <td>0.0</td>\n",
       "      <td>0.0</td>\n",
       "      <td>0.0</td>\n",
       "      <td>0.0</td>\n",
       "      <td>0.0</td>\n",
       "      <td>0.0</td>\n",
       "    </tr>\n",
       "    <tr>\n",
       "      <th>3</th>\n",
       "      <td>0.0</td>\n",
       "      <td>0.0</td>\n",
       "      <td>0.000000</td>\n",
       "      <td>0.000000</td>\n",
       "      <td>0.0</td>\n",
       "      <td>0.000000</td>\n",
       "      <td>0.000000</td>\n",
       "      <td>0.0</td>\n",
       "      <td>0.000000</td>\n",
       "      <td>0.000000</td>\n",
       "      <td>...</td>\n",
       "      <td>0.0</td>\n",
       "      <td>0.382298</td>\n",
       "      <td>0.000000</td>\n",
       "      <td>0.000000</td>\n",
       "      <td>0.0</td>\n",
       "      <td>0.0</td>\n",
       "      <td>0.0</td>\n",
       "      <td>0.0</td>\n",
       "      <td>0.0</td>\n",
       "      <td>0.0</td>\n",
       "    </tr>\n",
       "    <tr>\n",
       "      <th>4</th>\n",
       "      <td>0.0</td>\n",
       "      <td>0.0</td>\n",
       "      <td>0.194485</td>\n",
       "      <td>0.201197</td>\n",
       "      <td>0.0</td>\n",
       "      <td>0.208945</td>\n",
       "      <td>0.208945</td>\n",
       "      <td>0.0</td>\n",
       "      <td>0.151007</td>\n",
       "      <td>0.218109</td>\n",
       "      <td>...</td>\n",
       "      <td>0.0</td>\n",
       "      <td>0.000000</td>\n",
       "      <td>0.000000</td>\n",
       "      <td>0.000000</td>\n",
       "      <td>0.0</td>\n",
       "      <td>0.0</td>\n",
       "      <td>0.0</td>\n",
       "      <td>0.0</td>\n",
       "      <td>0.0</td>\n",
       "      <td>0.0</td>\n",
       "    </tr>\n",
       "  </tbody>\n",
       "</table>\n",
       "<p>5 rows × 217 columns</p>\n",
       "</div>"
      ],
      "text/plain": [
       "     2  2 year   ability  ability tell  accord        ad    ad hoc   ai  \\\n",
       "0  0.0     0.0  0.000000      0.000000     0.0  0.000000  0.000000  0.0   \n",
       "1  0.0     0.0  0.000000      0.000000     0.0  0.000000  0.000000  0.0   \n",
       "2  0.0     0.0  0.000000      0.000000     0.0  0.000000  0.000000  0.0   \n",
       "3  0.0     0.0  0.000000      0.000000     0.0  0.000000  0.000000  0.0   \n",
       "4  0.0     0.0  0.194485      0.201197     0.0  0.208945  0.208945  0.0   \n",
       "\n",
       "   analysis  analysis datum  ...  visualization  warehouse  webbased  \\\n",
       "0  0.000000        0.000000  ...            0.0   0.000000  0.192894   \n",
       "1  0.149701        0.000000  ...            0.0   0.000000  0.000000   \n",
       "2  0.000000        0.000000  ...            0.0   0.000000  0.000000   \n",
       "3  0.000000        0.000000  ...            0.0   0.382298  0.000000   \n",
       "4  0.151007        0.218109  ...            0.0   0.000000  0.000000   \n",
       "\n",
       "   webbased datum  work  work experience  workbachelor  workbachelor degree  \\\n",
       "0        0.192894   0.0              0.0           0.0                  0.0   \n",
       "1        0.000000   0.0              0.0           0.0                  0.0   \n",
       "2        0.000000   0.0              0.0           0.0                  0.0   \n",
       "3        0.000000   0.0              0.0           0.0                  0.0   \n",
       "4        0.000000   0.0              0.0           0.0                  0.0   \n",
       "\n",
       "   year  year experience  \n",
       "0   0.0              0.0  \n",
       "1   0.0              0.0  \n",
       "2   0.0              0.0  \n",
       "3   0.0              0.0  \n",
       "4   0.0              0.0  \n",
       "\n",
       "[5 rows x 217 columns]"
      ]
     },
     "execution_count": 23,
     "metadata": {},
     "output_type": "execute_result"
    }
   ],
   "source": [
    "dtm.head()"
   ]
  },
  {
   "cell_type": "code",
   "execution_count": 24,
   "metadata": {},
   "outputs": [
    {
     "data": {
      "text/plain": [
       "NearestNeighbors(algorithm='kd_tree', leaf_size=30, metric='minkowski',\n",
       "                 metric_params=None, n_jobs=None, n_neighbors=5, p=2,\n",
       "                 radius=1.0)"
      ]
     },
     "execution_count": 24,
     "metadata": {},
     "output_type": "execute_result"
    }
   ],
   "source": [
    "from sklearn.neighbors import NearestNeighbors\n",
    "\n",
    "nn = NearestNeighbors(n_neighbors=5, algorithm='kd_tree')\n",
    "nn.fit(dtm)"
   ]
  },
  {
   "cell_type": "code",
   "execution_count": 25,
   "metadata": {},
   "outputs": [
    {
     "data": {
      "text/plain": [
       "(array([[0.        , 0.86572776, 1.10606556, 1.12329512, 1.175947  ]]),\n",
       " array([[ 31,  41,   8,  12, 123]]))"
      ]
     },
     "execution_count": 25,
     "metadata": {},
     "output_type": "execute_result"
    }
   ],
   "source": [
    "nn.kneighbors([dtm.iloc[31]])"
   ]
  },
  {
   "cell_type": "code",
   "execution_count": 26,
   "metadata": {},
   "outputs": [],
   "source": [
    "def get_similar(text_list):\n",
    "    \"\"\"dtm : document term matrix\"\"\"\n",
    "    dtm = tfidf.transform(text_list)\n",
    "    dtm = dtm.todense()\n",
    "    return nn.kneighbors(dtm)"
   ]
  },
  {
   "cell_type": "code",
   "execution_count": 27,
   "metadata": {},
   "outputs": [
    {
     "data": {
      "text/plain": [
       "(array([[1., 1., 1., 1., 1.]]), array([[15,  3,  5, 16,  2]]))"
      ]
     },
     "execution_count": 27,
     "metadata": {},
     "output_type": "execute_result"
    }
   ],
   "source": [
    "get_similar(['Easy high-paying salary job'])"
   ]
  },
  {
   "cell_type": "code",
   "execution_count": 30,
   "metadata": {},
   "outputs": [
    {
     "data": {
      "text/plain": [
       "'bachelors degree or higher in applied statistics data science computer science or equivalent relevant experience research and development of new products'"
      ]
     },
     "execution_count": 30,
     "metadata": {},
     "output_type": "execute_result"
    }
   ],
   "source": [
    "# maybe the descriptions aren't large enough. Worked better when I was using\n",
    "# the complete job descriptions from the csv.\n",
    "clean_string( df.iloc[16].description )"
   ]
  },
  {
   "cell_type": "code",
   "execution_count": 31,
   "metadata": {},
   "outputs": [
    {
     "data": {
      "text/plain": [
       "(array([[0.95699503, 1.02144294, 1.03493506, 1.08220138, 1.08220138]]),\n",
       " array([[ 98,  44, 115, 120,  18]]))"
      ]
     },
     "execution_count": 31,
     "metadata": {},
     "output_type": "execute_result"
    }
   ],
   "source": [
    "get_similar(['billion years experience required'])"
   ]
  },
  {
   "cell_type": "code",
   "execution_count": 37,
   "metadata": {},
   "outputs": [
    {
     "data": {
      "text/plain": [
       "'data inventory classification and loss prevention 2 years experience with data loss prevention we are looking for technology business and process focused'"
      ]
     },
     "execution_count": 37,
     "metadata": {},
     "output_type": "execute_result"
    }
   ],
   "source": [
    "clean_string( df.iloc[98].description )"
   ]
  },
  {
   "cell_type": "markdown",
   "metadata": {
    "colab_type": "text",
    "id": "FiDfTWceoRkH"
   },
   "source": [
    "## Stretch Goals\n",
    "\n",
    " - Try different visualizations for words and frequencies - what story do you want to tell with the data?\n",
    " - Scrape Job Listings for the job title \"Data Analyst\". How do these differ from Data Scientist Job Listings\n",
    " - Try and identify requirements for experience specific technologies that are asked for in the job listings. How are those distributed among the job listings?\n",
    " - Use a clustering algorithm to cluster documents by their most important terms. Do the clusters reveal any common themes?\n",
    "  - **Hint:** K-means might not be the best algorithm for this. Do a little bit of research to see what might be good for this. Also, remember that algorithms that depend on Euclidean distance break down with high dimensional data.\n",
    " - Create a labeled dataset - which jobs will you apply for? Train a model to select the jobs you are most likely to apply for. :) "
   ]
  }
 ],
 "metadata": {
  "colab": {
   "collapsed_sections": [],
   "name": "LS_DS_422_BOW_Assignment.ipynb",
   "provenance": [],
   "version": "0.3.2"
  },
  "kernel_info": {
   "name": "python3"
  },
  "kernelspec": {
   "display_name": "Python 3",
   "language": "python",
   "name": "python3"
  },
  "language_info": {
   "codemirror_mode": {
    "name": "ipython",
    "version": 3
   },
   "file_extension": ".py",
   "mimetype": "text/x-python",
   "name": "python",
   "nbconvert_exporter": "python",
   "pygments_lexer": "ipython3",
   "version": "3.7.3"
  },
  "nteract": {
   "version": "0.14.3"
  }
 },
 "nbformat": 4,
 "nbformat_minor": 4
}
